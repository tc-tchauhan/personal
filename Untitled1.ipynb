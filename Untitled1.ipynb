{
 "cells": [
  {
   "cell_type": "markdown",
   "id": "171226ba-f30b-4cee-b89f-ff9999a69666",
   "metadata": {},
   "source": [
    "# INDEX"
   ]
  },
  {
   "cell_type": "markdown",
   "id": "4cb777fa-a482-4b02-a0b6-61de3a09c076",
   "metadata": {},
   "source": [
    "# LIST OF TABLES"
   ]
  },
  {
   "cell_type": "markdown",
   "id": "0c9774cb-405e-4fb3-9787-eec4a4ad9bfe",
   "metadata": {},
   "source": [
    "# LIST OF FIGURES"
   ]
  },
  {
   "cell_type": "markdown",
   "id": "9ec1623b-0f00-4b16-b1c3-35cca51798ef",
   "metadata": {},
   "source": [
    "# Bright Motor Comapny Data Analysis"
   ]
  },
  {
   "cell_type": "markdown",
   "id": "6a4a5831-4c0e-44fe-aa17-c0e5ce9deb7f",
   "metadata": {},
   "source": [
    "## PROBLEM STATEMENT\n",
    "\n",
    "Bright Motor Company want to analyze the data to get a fair idea about the demand of customers which will help them in enhancing their customer experience. Suppose you are a Data Scientist at the company and the Data Science team has shared some of the key questions that need to be answered. Perform the data analysis to find answers to these questions that will help the company to improve the business.\n"
   ]
  },
  {
   "cell_type": "markdown",
   "id": "11721ce1-d466-48b3-9300-24d50c1052be",
   "metadata": {},
   "source": [
    "## Data Dictionary"
   ]
  },
  {
   "cell_type": "markdown",
   "id": "b8720b44-b3d3-48b5-bdfd-ecd4382d1c0b",
   "metadata": {},
   "source": [
    "* **Age:** The age of the individual in years.\n",
    "* **Gender:** The gender of the individual, categorized as male or female.\n",
    "* **Profession:** The occupation or profession of the individual.\n",
    "* **Marital_status:** The marital status of the individual, such as married & single\n",
    "* **Education:** The educational qualification of the individual Graduate and Post Graduate\n",
    "* **No_of_Dependents:** The number of dependents (e.g., children, elderly parents) that the individual supports financially.\n",
    "* **Personal_loan:** A binary variable indicating whether the individual has taken a personal loan \"Yes\" or \"No\"\n",
    "* **House_loan:** A binary variable indicating whether the individual has taken a housing loan \"Yes\" or \"No\"\n",
    "* **Partner_working:** A binary variable indicating whether the individual's partner is employed \"Yes\" or \"No\"\n",
    "* **Salary:** The individual's salary or income.\n",
    "* **Partner_salary:** The salary or income of the individual's partner, if applicable.\n",
    "* **Total_salary:** The total combined salary of the individual and their partner (if applicable).\n",
    "* **Price:** The price of a product or service.\n",
    "* **Make:** The type of automobile."
   ]
  },
  {
   "cell_type": "markdown",
   "id": "97e281fd-a740-4a5f-ac31-90ebc2485048",
   "metadata": {},
   "source": [
    "# Importing all the necessary Libraries"
   ]
  },
  {
   "cell_type": "code",
   "execution_count": null,
   "id": "a661ee9c-2bbf-4d9b-b440-cdacc155d2a9",
   "metadata": {},
   "outputs": [],
   "source": [
    "import pandas as pd\n",
    "import numpy as np\n",
    "import matplotlib.pyplot as plt\n",
    "import seaborn as sns"
   ]
  },
  {
   "cell_type": "markdown",
   "id": "49012331-54d0-4b9b-a341-5ad8c7d3f90e",
   "metadata": {},
   "source": [
    "# Loading the Dataset"
   ]
  },
  {
   "cell_type": "code",
   "execution_count": null,
   "id": "5f976f39-7f34-4a22-adac-2c80efcf3748",
   "metadata": {},
   "outputs": [],
   "source": [
    "data = pd.read_csv(r\"C:\\Users\\toshu\\OneDrive\\Desktop\\bootcamp\\5-bright_automotive_company_New.csv\")"
   ]
  },
  {
   "cell_type": "markdown",
   "id": "532b2dbb-73ec-4e3d-a57e-815b3acee0d7",
   "metadata": {},
   "source": [
    "# Basic Exploration"
   ]
  },
  {
   "cell_type": "markdown",
   "id": "3ae252a8-cbdc-409d-85b5-8e598b02c08b",
   "metadata": {},
   "source": [
    "### 1. - Displaying the top 5 upper rows"
   ]
  },
  {
   "cell_type": "code",
   "execution_count": null,
   "id": "b66617b1-4457-453e-9dd5-153b2bd9a6f6",
   "metadata": {},
   "outputs": [],
   "source": [
    "data.head().T"
   ]
  },
  {
   "cell_type": "markdown",
   "id": "6254d581-20c7-473c-bff5-91b012c5c578",
   "metadata": {},
   "source": [
    "## Observations\n",
    "#### From the head we can infer that:\n",
    "* ##### \"No_of_Dependents\", \"Make\" columns might be having wrong entries like \"?\"\n",
    "* ##### There are null values in the dataset"
   ]
  },
  {
   "cell_type": "markdown",
   "id": "22a57fe7-116f-4e79-bbbb-c62fc7dd9b59",
   "metadata": {},
   "source": [
    "### 2. - Displaying the 5 lowest Rows"
   ]
  },
  {
   "cell_type": "code",
   "execution_count": null,
   "id": "ea1a60cb-b3a3-4c17-8522-d8bd80d597f0",
   "metadata": {},
   "outputs": [],
   "source": [
    "data.tail().T"
   ]
  },
  {
   "cell_type": "markdown",
   "id": "c699a7c5-f099-4004-92df-ab2b2a164812",
   "metadata": {},
   "source": [
    "### 3. - Getting the shape of the dataset i.e to get the number of rows and columns"
   ]
  },
  {
   "cell_type": "code",
   "execution_count": null,
   "id": "72bbb9b4-8e4f-472e-9848-bc5e4c6c37cf",
   "metadata": {},
   "outputs": [],
   "source": [
    "data.shape"
   ]
  },
  {
   "cell_type": "markdown",
   "id": "59afa8a0-115a-48a3-9fdb-394ef8e26e33",
   "metadata": {},
   "source": [
    "### Observations\n",
    "#### We can see that in our dataset:\n",
    "* ##### There are 1581 rows. \n",
    "* ##### There are 14 columns."
   ]
  },
  {
   "cell_type": "markdown",
   "id": "fa45e00c-36d7-4c56-8b8d-d8efcde9148a",
   "metadata": {},
   "source": [
    "### 4. -\tCheck the datatypes of each feature."
   ]
  },
  {
   "cell_type": "code",
   "execution_count": null,
   "id": "a184f34a-a3fe-4330-a554-5ac0a311ab84",
   "metadata": {},
   "outputs": [],
   "source": [
    "data.info()"
   ]
  },
  {
   "cell_type": "markdown",
   "id": "163934d6-de82-4be6-933d-9d52e4ee4557",
   "metadata": {},
   "source": [
    "### Observations\n",
    "#### We can see that in our dataset we have:\n",
    "* ##### 3 columns which are of Int Datatype.\n",
    "* ##### 2 columns which are of Float Datatype.\n",
    "* ##### Remaining columns i.e 9 columns are of object Datatype.\n",
    "* ##### No_of_Dependents column should be numerical datatype but appearing as object"
   ]
  },
  {
   "cell_type": "markdown",
   "id": "94bcc1a1-829a-4d35-9d1c-88804a4bb6b3",
   "metadata": {},
   "source": [
    "### 5. - Check the Statistical summary "
   ]
  },
  {
   "cell_type": "code",
   "execution_count": null,
   "id": "cff2cb73-07c0-4053-9311-11eb1a16dda8",
   "metadata": {},
   "outputs": [],
   "source": [
    "data.describe()"
   ]
  },
  {
   "cell_type": "markdown",
   "id": "415f0dc3-2a21-47cf-9144-cf69839b1a9e",
   "metadata": {},
   "source": [
    "### Observations\n",
    "* ##### The maximum age is given as 120\n",
    "* ##### the minimum age is given as 14 this needed to be checked as a 14 year cannot drive a car"
   ]
  },
  {
   "cell_type": "markdown",
   "id": "d53cb7fa-ff8d-4a76-824e-b607ff67d8a0",
   "metadata": {},
   "source": [
    "# Data cleaning"
   ]
  },
  {
   "cell_type": "markdown",
   "id": "d32fc141-64aa-4f55-9d43-011f66b97ca5",
   "metadata": {},
   "source": [
    "### 6. - Check the null values"
   ]
  },
  {
   "cell_type": "code",
   "execution_count": null,
   "id": "a36603f7-e9da-49bf-b55b-6d680ba1f60e",
   "metadata": {},
   "outputs": [],
   "source": [
    "data.isnull().sum()"
   ]
  },
  {
   "cell_type": "markdown",
   "id": "48531fe6-83b6-4918-92af-997281a7dfae",
   "metadata": {},
   "source": [
    "### Observations\n",
    "#### We can see that in our dataset:\n",
    "* ##### only 4 columns (Gender, Profession, Salary, Partner_salary) have null values."
   ]
  },
  {
   "cell_type": "code",
   "execution_count": null,
   "id": "65df7424-d4a3-4f12-a70b-f66c91b153ed",
   "metadata": {},
   "outputs": [],
   "source": [
    "data.isnull().sum()/len(data)*100"
   ]
  },
  {
   "cell_type": "markdown",
   "id": "8e3df20a-67c4-4007-bf35-55e3a78219d5",
   "metadata": {},
   "source": [
    "### 7. - Check the duplicate values"
   ]
  },
  {
   "cell_type": "code",
   "execution_count": null,
   "id": "eeb400ec-2526-4d61-8462-80fed0b3dcdf",
   "metadata": {},
   "outputs": [],
   "source": [
    "data.duplicated().sum()"
   ]
  },
  {
   "cell_type": "markdown",
   "id": "61085915-278f-4992-8366-3ccc6b80446d",
   "metadata": {},
   "source": [
    "#### We can see that all the rows are unique and we have no duplicated rows"
   ]
  },
  {
   "cell_type": "markdown",
   "id": "dfc322c7-dd7c-48ae-ae75-20c51add8f36",
   "metadata": {},
   "source": [
    "### 8. - Check the outliers and their authenticity."
   ]
  },
  {
   "cell_type": "code",
   "execution_count": null,
   "id": "35177b66-5c68-4e09-a2e0-c014e49b94bb",
   "metadata": {},
   "outputs": [],
   "source": [
    "# creating boxplot for checking the outliers\n",
    "for i in [\"Age\",\"Salary\",\"Partner_salary\",\"Total_salary\",\"Price\"]:\n",
    "    plt.figure(figsize = (10,3))\n",
    "    sns.boxplot(data = data, x=i)\n",
    "    plt.show()"
   ]
  },
  {
   "cell_type": "markdown",
   "id": "832f5e1b-296c-4ba7-93b4-3e7df959ade5",
   "metadata": {},
   "source": [
    "### Observations\n",
    "#### we can see that:\n",
    "* ##### Column 'Age','Total Salary and 'Price' has outliers which needed to be seen"
   ]
  },
  {
   "cell_type": "code",
   "execution_count": null,
   "id": "721ff654-fba4-4cce-a42f-7223ee15bf9e",
   "metadata": {},
   "outputs": [],
   "source": [
    "def remove_outlier(col):\n",
    "    sorted(col)\n",
    "    Q1,Q3=col.quantile([0.25,0.75])\n",
    "    IQR=Q3-Q1\n",
    "    lower_range= Q1-(1.5 * IQR)\n",
    "    upper_range= Q3+(1.5 * IQR)\n",
    "    return lower_range, upper_range "
   ]
  },
  {
   "cell_type": "code",
   "execution_count": null,
   "id": "d690e222-44b4-411b-ba77-db53a7bb00ce",
   "metadata": {},
   "outputs": [],
   "source": [
    "ll,ul = remove_outlier(data[\"Total_salary\"])"
   ]
  },
  {
   "cell_type": "code",
   "execution_count": null,
   "id": "f6355e21-3415-425f-b977-9a7bf2779e27",
   "metadata": {},
   "outputs": [],
   "source": [
    "data[data[\"Total_salary\"]>ul]"
   ]
  },
  {
   "cell_type": "markdown",
   "id": "b14fddc4-5dc0-4c8b-a1a4-b5f06f7cc18e",
   "metadata": {},
   "source": [
    "### Observation\n",
    "##### we can see that in the Total_salary column we have outliers but they are correct and genuine values so they need not to be replaced"
   ]
  },
  {
   "cell_type": "markdown",
   "id": "20e01545-9896-45b7-ad71-0eb1baa89c58",
   "metadata": {},
   "source": [
    "### 9. - Removing Anomalies"
   ]
  },
  {
   "cell_type": "code",
   "execution_count": null,
   "id": "e5023166-8a3b-4418-af2b-b3f89ca6f4e4",
   "metadata": {},
   "outputs": [],
   "source": [
    "data['No_of_Dependents'].unique()"
   ]
  },
  {
   "cell_type": "code",
   "execution_count": null,
   "id": "748d4288-e9a0-4921-8ce4-77b69b100835",
   "metadata": {},
   "outputs": [],
   "source": [
    "data['No_of_Dependents'].value_counts()"
   ]
  },
  {
   "cell_type": "code",
   "execution_count": null,
   "id": "65441674-c038-4737-bb2c-a7966da7d9e9",
   "metadata": {},
   "outputs": [],
   "source": [
    "data[data['No_of_Dependents'] == '?']"
   ]
  },
  {
   "cell_type": "code",
   "execution_count": null,
   "id": "a2d495bd-b39b-4a30-99d9-35d4a6f9dc30",
   "metadata": {},
   "outputs": [],
   "source": []
  }
 ],
 "metadata": {
  "kernelspec": {
   "display_name": "Python 3 (ipykernel)",
   "language": "python",
   "name": "python3"
  },
  "language_info": {
   "codemirror_mode": {
    "name": "ipython",
    "version": 3
   },
   "file_extension": ".py",
   "mimetype": "text/x-python",
   "name": "python",
   "nbconvert_exporter": "python",
   "pygments_lexer": "ipython3",
   "version": "3.11.7"
  }
 },
 "nbformat": 4,
 "nbformat_minor": 5
}
