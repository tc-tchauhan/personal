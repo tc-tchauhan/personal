{
 "cells": [
  {
   "cell_type": "markdown",
   "id": "c818a714-63d1-469e-8266-eff60fe20228",
   "metadata": {
    "jp-MarkdownHeadingCollapsed": true
   },
   "source": [
    "# INDEX"
   ]
  },
  {
   "cell_type": "markdown",
   "id": "01f72504-c0ba-4db6-94cf-8d8280abc3f7",
   "metadata": {},
   "source": [
    "# LIST OF TABLES"
   ]
  },
  {
   "cell_type": "markdown",
   "id": "902c1410-8a2f-4ee2-95b6-8baaf0b73dfd",
   "metadata": {},
   "source": [
    "# LIST OF TABLES"
   ]
  },
  {
   "cell_type": "markdown",
   "id": "b84b1344-7601-42d4-9795-8e4517095714",
   "metadata": {},
   "source": [
    "# Bright Motor Comapny Data Analysis"
   ]
  },
  {
   "cell_type": "markdown",
   "id": "9db942f7-161a-4d34-ae42-941903ffa4ce",
   "metadata": {},
   "source": [
    "## PROBLEM STATEMENT\n",
    "\n",
    "Bright Motor Company want to analyze the data to get a fair idea about the demand of customers which will help them in enhancing their customer experience. Suppose you are a Data Scientist at the company and the Data Science team has shared some of the key questions that need to be answered. Perform the data analysis to find answers to these questions that will help the company to improve the business.\n"
   ]
  },
  {
   "cell_type": "markdown",
   "id": "e4e51dd4-3f86-43c2-9a38-2a5be1cb3770",
   "metadata": {},
   "source": [
    "## Data Dictionary"
   ]
  },
  {
   "cell_type": "markdown",
   "id": "000d2237-1428-47b0-9862-39e8688086a7",
   "metadata": {},
   "source": [
    "* **Age:** The age of the individual in years.\n",
    "* **Gender:** The gender of the individual, categorized as male or female.\n",
    "* **Profession:** The occupation or profession of the individual.\n",
    "* **Marital_status:** The marital status of the individual, such as married & single\n",
    "* **Education:** The educational qualification of the individual Graduate and Post Graduate\n",
    "* **No_of_Dependents:** The number of dependents (e.g., children, elderly parents) that the individual supports financially.\n",
    "* **Personal_loan:** A binary variable indicating whether the individual has taken a personal loan \"Yes\" or \"No\"\n",
    "* **House_loan:** A binary variable indicating whether the individual has taken a housing loan \"Yes\" or \"No\"\n",
    "* **Partner_working:** A binary variable indicating whether the individual's partner is employed \"Yes\" or \"No\"\n",
    "* **Salary:** The individual's salary or income.\n",
    "* **Partner_salary:** The salary or income of the individual's partner, if applicable.\n",
    "* **Total_salary:** The total combined salary of the individual and their partner (if applicable).\n",
    "* **Price:** The price of a product or service.\n",
    "* **Make:** The type of automobile."
   ]
  },
  {
   "cell_type": "markdown",
   "id": "ca649c0e",
   "metadata": {},
   "source": [
    "### 1. Importing the necessary dependencies\n"
   ]
  },
  {
   "cell_type": "code",
   "execution_count": 1,
   "id": "69c71f7f",
   "metadata": {},
   "outputs": [],
   "source": [
    "import pandas as pd\n",
    "import matplotlib.pyplot as plt\n",
    "import seaborn as sns\n",
    "import numpy as np"
   ]
  },
  {
   "cell_type": "markdown",
   "id": "bce95675",
   "metadata": {},
   "source": [
    "# Loading the Dataset"
   ]
  },
  {
   "cell_type": "code",
   "execution_count": 2,
   "id": "0604c91a",
   "metadata": {},
   "outputs": [],
   "source": [
    "data = pd.read_csv(r\"C:\\Users\\toshu\\OneDrive\\Desktop\\bootcamp\\5-bright_automotive_company_New.csv\")"
   ]
  },
  {
   "cell_type": "markdown",
   "id": "10bdb0dc-3b93-424b-9ad1-3861e2b2719e",
   "metadata": {},
   "source": [
    "# Basic Exploration"
   ]
  },
  {
   "cell_type": "markdown",
   "id": "4b271091",
   "metadata": {},
   "source": [
    "### 1. - Displaying the top 5 upper rows"
   ]
  },
  {
   "cell_type": "markdown",
   "id": "c2aa9ce9",
   "metadata": {},
   "source": [
    "#### delete a column"
   ]
  },
  {
   "cell_type": "code",
   "execution_count": 3,
   "id": "7ca3e52b",
   "metadata": {},
   "outputs": [
    {
     "data": {
      "text/html": [
       "<div>\n",
       "<style scoped>\n",
       "    .dataframe tbody tr th:only-of-type {\n",
       "        vertical-align: middle;\n",
       "    }\n",
       "\n",
       "    .dataframe tbody tr th {\n",
       "        vertical-align: top;\n",
       "    }\n",
       "\n",
       "    .dataframe thead th {\n",
       "        text-align: right;\n",
       "    }\n",
       "</style>\n",
       "<table border=\"1\" class=\"dataframe\">\n",
       "  <thead>\n",
       "    <tr style=\"text-align: right;\">\n",
       "      <th></th>\n",
       "      <th>0</th>\n",
       "      <th>1</th>\n",
       "      <th>2</th>\n",
       "      <th>3</th>\n",
       "      <th>4</th>\n",
       "    </tr>\n",
       "  </thead>\n",
       "  <tbody>\n",
       "    <tr>\n",
       "      <th>Age</th>\n",
       "      <td>53</td>\n",
       "      <td>53</td>\n",
       "      <td>53</td>\n",
       "      <td>53</td>\n",
       "      <td>53</td>\n",
       "    </tr>\n",
       "    <tr>\n",
       "      <th>Gender</th>\n",
       "      <td>Male</td>\n",
       "      <td>Femal</td>\n",
       "      <td>Female</td>\n",
       "      <td>Female</td>\n",
       "      <td>Male</td>\n",
       "    </tr>\n",
       "    <tr>\n",
       "      <th>Profession</th>\n",
       "      <td>Business</td>\n",
       "      <td>Salaried</td>\n",
       "      <td>Salaried</td>\n",
       "      <td>Salaried</td>\n",
       "      <td>NaN</td>\n",
       "    </tr>\n",
       "    <tr>\n",
       "      <th>Marital_status</th>\n",
       "      <td>Married</td>\n",
       "      <td>Married</td>\n",
       "      <td>Married</td>\n",
       "      <td>Married</td>\n",
       "      <td>Married</td>\n",
       "    </tr>\n",
       "    <tr>\n",
       "      <th>Education</th>\n",
       "      <td>Post Graduate</td>\n",
       "      <td>Post Graduate</td>\n",
       "      <td>Post Graduate</td>\n",
       "      <td>Graduate</td>\n",
       "      <td>Post Graduate</td>\n",
       "    </tr>\n",
       "    <tr>\n",
       "      <th>No_of_Dependents</th>\n",
       "      <td>4</td>\n",
       "      <td>4</td>\n",
       "      <td>3</td>\n",
       "      <td>?</td>\n",
       "      <td>3</td>\n",
       "    </tr>\n",
       "    <tr>\n",
       "      <th>Personal_loan</th>\n",
       "      <td>No</td>\n",
       "      <td>Yes</td>\n",
       "      <td>No</td>\n",
       "      <td>Yes</td>\n",
       "      <td>No</td>\n",
       "    </tr>\n",
       "    <tr>\n",
       "      <th>House_loan</th>\n",
       "      <td>No</td>\n",
       "      <td>No</td>\n",
       "      <td>No</td>\n",
       "      <td>No</td>\n",
       "      <td>No</td>\n",
       "    </tr>\n",
       "    <tr>\n",
       "      <th>Partner_working</th>\n",
       "      <td>Yes</td>\n",
       "      <td>Yes</td>\n",
       "      <td>Yes</td>\n",
       "      <td>Yes</td>\n",
       "      <td>Yes</td>\n",
       "    </tr>\n",
       "    <tr>\n",
       "      <th>Salary</th>\n",
       "      <td>99300.0</td>\n",
       "      <td>95500.0</td>\n",
       "      <td>97300.0</td>\n",
       "      <td>72500.0</td>\n",
       "      <td>79700.0</td>\n",
       "    </tr>\n",
       "    <tr>\n",
       "      <th>Partner_salary</th>\n",
       "      <td>70700.0</td>\n",
       "      <td>70300.0</td>\n",
       "      <td>60700.0</td>\n",
       "      <td>70300.0</td>\n",
       "      <td>60200.0</td>\n",
       "    </tr>\n",
       "    <tr>\n",
       "      <th>Total_salary</th>\n",
       "      <td>170000</td>\n",
       "      <td>165800</td>\n",
       "      <td>158000</td>\n",
       "      <td>142800</td>\n",
       "      <td>139900</td>\n",
       "    </tr>\n",
       "    <tr>\n",
       "      <th>Price</th>\n",
       "      <td>61000</td>\n",
       "      <td>61000</td>\n",
       "      <td>57000</td>\n",
       "      <td>61000</td>\n",
       "      <td>57000</td>\n",
       "    </tr>\n",
       "    <tr>\n",
       "      <th>Make</th>\n",
       "      <td>SUV</td>\n",
       "      <td>SUV</td>\n",
       "      <td>SUV</td>\n",
       "      <td>?</td>\n",
       "      <td>SUV</td>\n",
       "    </tr>\n",
       "  </tbody>\n",
       "</table>\n",
       "</div>"
      ],
      "text/plain": [
       "                              0              1              2         3  \\\n",
       "Age                          53             53             53        53   \n",
       "Gender                     Male          Femal         Female    Female   \n",
       "Profession             Business       Salaried       Salaried  Salaried   \n",
       "Marital_status          Married        Married        Married   Married   \n",
       "Education         Post Graduate  Post Graduate  Post Graduate  Graduate   \n",
       "No_of_Dependents              4              4              3         ?   \n",
       "Personal_loan                No            Yes             No       Yes   \n",
       "House_loan                   No             No             No        No   \n",
       "Partner_working             Yes            Yes            Yes       Yes   \n",
       "Salary                  99300.0        95500.0        97300.0   72500.0   \n",
       "Partner_salary          70700.0        70300.0        60700.0   70300.0   \n",
       "Total_salary             170000         165800         158000    142800   \n",
       "Price                     61000          61000          57000     61000   \n",
       "Make                        SUV            SUV            SUV         ?   \n",
       "\n",
       "                              4  \n",
       "Age                          53  \n",
       "Gender                     Male  \n",
       "Profession                  NaN  \n",
       "Marital_status          Married  \n",
       "Education         Post Graduate  \n",
       "No_of_Dependents              3  \n",
       "Personal_loan                No  \n",
       "House_loan                   No  \n",
       "Partner_working             Yes  \n",
       "Salary                  79700.0  \n",
       "Partner_salary          60200.0  \n",
       "Total_salary             139900  \n",
       "Price                     57000  \n",
       "Make                        SUV  "
      ]
     },
     "execution_count": 3,
     "metadata": {},
     "output_type": "execute_result"
    }
   ],
   "source": [
    "data.head().T"
   ]
  },
  {
   "cell_type": "markdown",
   "id": "68f301a9",
   "metadata": {},
   "source": [
    "## Observations\n",
    "#### From the head we can infer that:\n",
    "* ##### \"No_of_Dependents\", \"Make\" columns might be having wrong entries like \"?\"\n",
    "* ##### There are null values in the dataset"
   ]
  },
  {
   "cell_type": "markdown",
   "id": "42a46090-b565-497c-a213-87fb10b99396",
   "metadata": {},
   "source": [
    "### 2. - Displaying the 5 lowest Rows"
   ]
  },
  {
   "cell_type": "code",
   "execution_count": 4,
   "id": "3cc62291",
   "metadata": {},
   "outputs": [
    {
     "data": {
      "text/html": [
       "<div>\n",
       "<style scoped>\n",
       "    .dataframe tbody tr th:only-of-type {\n",
       "        vertical-align: middle;\n",
       "    }\n",
       "\n",
       "    .dataframe tbody tr th {\n",
       "        vertical-align: top;\n",
       "    }\n",
       "\n",
       "    .dataframe thead th {\n",
       "        text-align: right;\n",
       "    }\n",
       "</style>\n",
       "<table border=\"1\" class=\"dataframe\">\n",
       "  <thead>\n",
       "    <tr style=\"text-align: right;\">\n",
       "      <th></th>\n",
       "      <th>1576</th>\n",
       "      <th>1577</th>\n",
       "      <th>1578</th>\n",
       "      <th>1579</th>\n",
       "      <th>1580</th>\n",
       "    </tr>\n",
       "  </thead>\n",
       "  <tbody>\n",
       "    <tr>\n",
       "      <th>Age</th>\n",
       "      <td>22</td>\n",
       "      <td>22</td>\n",
       "      <td>22</td>\n",
       "      <td>22</td>\n",
       "      <td>22</td>\n",
       "    </tr>\n",
       "    <tr>\n",
       "      <th>Gender</th>\n",
       "      <td>Male</td>\n",
       "      <td>Male</td>\n",
       "      <td>Male</td>\n",
       "      <td>Male</td>\n",
       "      <td>Male</td>\n",
       "    </tr>\n",
       "    <tr>\n",
       "      <th>Profession</th>\n",
       "      <td>Salaried</td>\n",
       "      <td>Business</td>\n",
       "      <td>Business</td>\n",
       "      <td>Business</td>\n",
       "      <td>Salaried</td>\n",
       "    </tr>\n",
       "    <tr>\n",
       "      <th>Marital_status</th>\n",
       "      <td>Single</td>\n",
       "      <td>Married</td>\n",
       "      <td>Single</td>\n",
       "      <td>Married</td>\n",
       "      <td>Married</td>\n",
       "    </tr>\n",
       "    <tr>\n",
       "      <th>Education</th>\n",
       "      <td>Graduate</td>\n",
       "      <td>Graduate</td>\n",
       "      <td>Graduate</td>\n",
       "      <td>Graduate</td>\n",
       "      <td>Graduate</td>\n",
       "    </tr>\n",
       "    <tr>\n",
       "      <th>No_of_Dependents</th>\n",
       "      <td>2</td>\n",
       "      <td>4</td>\n",
       "      <td>2</td>\n",
       "      <td>3</td>\n",
       "      <td>4</td>\n",
       "    </tr>\n",
       "    <tr>\n",
       "      <th>Personal_loan</th>\n",
       "      <td>No</td>\n",
       "      <td>No</td>\n",
       "      <td>No</td>\n",
       "      <td>Yes</td>\n",
       "      <td>No</td>\n",
       "    </tr>\n",
       "    <tr>\n",
       "      <th>House_loan</th>\n",
       "      <td>Yes</td>\n",
       "      <td>No</td>\n",
       "      <td>Yes</td>\n",
       "      <td>Yes</td>\n",
       "      <td>No</td>\n",
       "    </tr>\n",
       "    <tr>\n",
       "      <th>Partner_working</th>\n",
       "      <td>No</td>\n",
       "      <td>No</td>\n",
       "      <td>No</td>\n",
       "      <td>No</td>\n",
       "      <td>No</td>\n",
       "    </tr>\n",
       "    <tr>\n",
       "      <th>Salary</th>\n",
       "      <td>33300.0</td>\n",
       "      <td>32000.0</td>\n",
       "      <td>32900.0</td>\n",
       "      <td>32200.0</td>\n",
       "      <td>31600.0</td>\n",
       "    </tr>\n",
       "    <tr>\n",
       "      <th>Partner_salary</th>\n",
       "      <td>0.0</td>\n",
       "      <td>NaN</td>\n",
       "      <td>0.0</td>\n",
       "      <td>NaN</td>\n",
       "      <td>0.0</td>\n",
       "    </tr>\n",
       "    <tr>\n",
       "      <th>Total_salary</th>\n",
       "      <td>33300</td>\n",
       "      <td>32000</td>\n",
       "      <td>32900</td>\n",
       "      <td>32200</td>\n",
       "      <td>31600</td>\n",
       "    </tr>\n",
       "    <tr>\n",
       "      <th>Price</th>\n",
       "      <td>27000</td>\n",
       "      <td>31000</td>\n",
       "      <td>30000</td>\n",
       "      <td>24000</td>\n",
       "      <td>31000</td>\n",
       "    </tr>\n",
       "    <tr>\n",
       "      <th>Make</th>\n",
       "      <td>Hatchback</td>\n",
       "      <td>Hatchback</td>\n",
       "      <td>Hatchback</td>\n",
       "      <td>Hatchback</td>\n",
       "      <td>Hatchback</td>\n",
       "    </tr>\n",
       "  </tbody>\n",
       "</table>\n",
       "</div>"
      ],
      "text/plain": [
       "                       1576       1577       1578       1579       1580\n",
       "Age                      22         22         22         22         22\n",
       "Gender                 Male       Male       Male       Male       Male\n",
       "Profession         Salaried   Business   Business   Business   Salaried\n",
       "Marital_status       Single    Married     Single    Married    Married\n",
       "Education          Graduate   Graduate   Graduate   Graduate   Graduate\n",
       "No_of_Dependents          2          4          2          3          4\n",
       "Personal_loan            No         No         No        Yes         No\n",
       "House_loan              Yes         No        Yes        Yes         No\n",
       "Partner_working          No         No         No         No         No\n",
       "Salary              33300.0    32000.0    32900.0    32200.0    31600.0\n",
       "Partner_salary          0.0        NaN        0.0        NaN        0.0\n",
       "Total_salary          33300      32000      32900      32200      31600\n",
       "Price                 27000      31000      30000      24000      31000\n",
       "Make              Hatchback  Hatchback  Hatchback  Hatchback  Hatchback"
      ]
     },
     "execution_count": 4,
     "metadata": {},
     "output_type": "execute_result"
    }
   ],
   "source": [
    "data.tail().T"
   ]
  },
  {
   "cell_type": "markdown",
   "id": "fb327c0a-6864-491e-98c7-7f10685b0374",
   "metadata": {},
   "source": [
    "### 3. - Getting the shape of the dataset i.e to get the number of rows and columns"
   ]
  },
  {
   "cell_type": "code",
   "execution_count": 5,
   "id": "cc5f7e58",
   "metadata": {},
   "outputs": [
    {
     "data": {
      "text/plain": [
       "(1581, 14)"
      ]
     },
     "execution_count": 5,
     "metadata": {},
     "output_type": "execute_result"
    }
   ],
   "source": [
    "data.shape"
   ]
  },
  {
   "cell_type": "markdown",
   "id": "2d466b56-2d9c-4817-8873-fb7279586f44",
   "metadata": {},
   "source": [
    "### Observations\n",
    "#### We can see that in our dataset:\n",
    "* ##### There are 1581 rows. \n",
    "* ##### There are 14 columns."
   ]
  },
  {
   "cell_type": "markdown",
   "id": "666ad9e2-b0dd-4a8f-b597-ee3b471b2e6a",
   "metadata": {},
   "source": [
    "### 4. -\tCheck the datatypes of each feature."
   ]
  },
  {
   "cell_type": "code",
   "execution_count": 6,
   "id": "8f8994c2",
   "metadata": {},
   "outputs": [
    {
     "name": "stdout",
     "output_type": "stream",
     "text": [
      "<class 'pandas.core.frame.DataFrame'>\n",
      "RangeIndex: 1581 entries, 0 to 1580\n",
      "Data columns (total 14 columns):\n",
      " #   Column            Non-Null Count  Dtype  \n",
      "---  ------            --------------  -----  \n",
      " 0   Age               1581 non-null   int64  \n",
      " 1   Gender            1528 non-null   object \n",
      " 2   Profession        1575 non-null   object \n",
      " 3   Marital_status    1581 non-null   object \n",
      " 4   Education         1581 non-null   object \n",
      " 5   No_of_Dependents  1581 non-null   object \n",
      " 6   Personal_loan     1581 non-null   object \n",
      " 7   House_loan        1581 non-null   object \n",
      " 8   Partner_working   1581 non-null   object \n",
      " 9   Salary            1568 non-null   float64\n",
      " 10  Partner_salary    1475 non-null   float64\n",
      " 11  Total_salary      1581 non-null   int64  \n",
      " 12  Price             1581 non-null   int64  \n",
      " 13  Make              1581 non-null   object \n",
      "dtypes: float64(2), int64(3), object(9)\n",
      "memory usage: 173.1+ KB\n"
     ]
    }
   ],
   "source": [
    "data.info()"
   ]
  },
  {
   "cell_type": "markdown",
   "id": "3cd6c461-18d8-4c5b-9979-adc4f8e837b9",
   "metadata": {},
   "source": [
    "### Observations\n",
    "#### We can see that in our dataset we have:\n",
    "* ##### 3 columns which are of Int Datatype.\n",
    "* ##### 2 columns which are of Float Datatype.\n",
    "* ##### Remaining columns i.e 9 columns are of object Datatype.\n",
    "* ##### No_of_Dependents column should be numerical datatype but appearing as object"
   ]
  },
  {
   "cell_type": "markdown",
   "id": "cce12be3-00af-41f3-b530-3bf8ed4c7107",
   "metadata": {},
   "source": [
    "### 5. - Check the Statistical summary "
   ]
  },
  {
   "cell_type": "code",
   "execution_count": 7,
   "id": "2b3ab2b7",
   "metadata": {},
   "outputs": [
    {
     "data": {
      "text/html": [
       "<div>\n",
       "<style scoped>\n",
       "    .dataframe tbody tr th:only-of-type {\n",
       "        vertical-align: middle;\n",
       "    }\n",
       "\n",
       "    .dataframe tbody tr th {\n",
       "        vertical-align: top;\n",
       "    }\n",
       "\n",
       "    .dataframe thead th {\n",
       "        text-align: right;\n",
       "    }\n",
       "</style>\n",
       "<table border=\"1\" class=\"dataframe\">\n",
       "  <thead>\n",
       "    <tr style=\"text-align: right;\">\n",
       "      <th></th>\n",
       "      <th>Age</th>\n",
       "      <th>Salary</th>\n",
       "      <th>Partner_salary</th>\n",
       "      <th>Total_salary</th>\n",
       "      <th>Price</th>\n",
       "    </tr>\n",
       "  </thead>\n",
       "  <tbody>\n",
       "    <tr>\n",
       "      <th>count</th>\n",
       "      <td>1581.000000</td>\n",
       "      <td>1568.000000</td>\n",
       "      <td>1475.000000</td>\n",
       "      <td>1581.000000</td>\n",
       "      <td>1581.000000</td>\n",
       "    </tr>\n",
       "    <tr>\n",
       "      <th>mean</th>\n",
       "      <td>31.952562</td>\n",
       "      <td>60276.913265</td>\n",
       "      <td>20225.559322</td>\n",
       "      <td>79625.996205</td>\n",
       "      <td>35948.170778</td>\n",
       "    </tr>\n",
       "    <tr>\n",
       "      <th>std</th>\n",
       "      <td>8.712549</td>\n",
       "      <td>14636.200199</td>\n",
       "      <td>19573.149277</td>\n",
       "      <td>25545.857768</td>\n",
       "      <td>21175.212108</td>\n",
       "    </tr>\n",
       "    <tr>\n",
       "      <th>min</th>\n",
       "      <td>14.000000</td>\n",
       "      <td>30000.000000</td>\n",
       "      <td>0.000000</td>\n",
       "      <td>30000.000000</td>\n",
       "      <td>58.000000</td>\n",
       "    </tr>\n",
       "    <tr>\n",
       "      <th>25%</th>\n",
       "      <td>25.000000</td>\n",
       "      <td>51900.000000</td>\n",
       "      <td>0.000000</td>\n",
       "      <td>60500.000000</td>\n",
       "      <td>25000.000000</td>\n",
       "    </tr>\n",
       "    <tr>\n",
       "      <th>50%</th>\n",
       "      <td>29.000000</td>\n",
       "      <td>59450.000000</td>\n",
       "      <td>25600.000000</td>\n",
       "      <td>78000.000000</td>\n",
       "      <td>31000.000000</td>\n",
       "    </tr>\n",
       "    <tr>\n",
       "      <th>75%</th>\n",
       "      <td>38.000000</td>\n",
       "      <td>71700.000000</td>\n",
       "      <td>38300.000000</td>\n",
       "      <td>95900.000000</td>\n",
       "      <td>47000.000000</td>\n",
       "    </tr>\n",
       "    <tr>\n",
       "      <th>max</th>\n",
       "      <td>120.000000</td>\n",
       "      <td>99300.000000</td>\n",
       "      <td>80500.000000</td>\n",
       "      <td>171000.000000</td>\n",
       "      <td>680000.000000</td>\n",
       "    </tr>\n",
       "  </tbody>\n",
       "</table>\n",
       "</div>"
      ],
      "text/plain": [
       "               Age        Salary  Partner_salary   Total_salary          Price\n",
       "count  1581.000000   1568.000000     1475.000000    1581.000000    1581.000000\n",
       "mean     31.952562  60276.913265    20225.559322   79625.996205   35948.170778\n",
       "std       8.712549  14636.200199    19573.149277   25545.857768   21175.212108\n",
       "min      14.000000  30000.000000        0.000000   30000.000000      58.000000\n",
       "25%      25.000000  51900.000000        0.000000   60500.000000   25000.000000\n",
       "50%      29.000000  59450.000000    25600.000000   78000.000000   31000.000000\n",
       "75%      38.000000  71700.000000    38300.000000   95900.000000   47000.000000\n",
       "max     120.000000  99300.000000    80500.000000  171000.000000  680000.000000"
      ]
     },
     "execution_count": 7,
     "metadata": {},
     "output_type": "execute_result"
    }
   ],
   "source": [
    "data.describe()"
   ]
  },
  {
   "cell_type": "markdown",
   "id": "53c13b01-4f0e-4169-ac2b-3613c7b616a3",
   "metadata": {},
   "source": [
    "### Observations\n",
    "* ##### The maximum age is given as 120\n",
    "* ##### the minimum age is given as 14 this needed to be checked as a 14 year cannot drive a car"
   ]
  },
  {
   "cell_type": "markdown",
   "id": "222b3c46-23dc-426f-a7e5-a09eeac8e846",
   "metadata": {
    "scrolled": true
   },
   "source": [
    "# Data cleaning"
   ]
  },
  {
   "cell_type": "markdown",
   "id": "b5945d13-a885-40fd-8c3f-9d03f543ce19",
   "metadata": {},
   "source": [
    "### 6. - Check the null values"
   ]
  },
  {
   "cell_type": "code",
   "execution_count": 8,
   "id": "e8a33388-bc88-4a25-802a-f7b8a0d04de3",
   "metadata": {},
   "outputs": [
    {
     "data": {
      "text/plain": [
       "Age                   0\n",
       "Gender               53\n",
       "Profession            6\n",
       "Marital_status        0\n",
       "Education             0\n",
       "No_of_Dependents      0\n",
       "Personal_loan         0\n",
       "House_loan            0\n",
       "Partner_working       0\n",
       "Salary               13\n",
       "Partner_salary      106\n",
       "Total_salary          0\n",
       "Price                 0\n",
       "Make                  0\n",
       "dtype: int64"
      ]
     },
     "execution_count": 8,
     "metadata": {},
     "output_type": "execute_result"
    }
   ],
   "source": [
    "data.isnull().sum()"
   ]
  },
  {
   "cell_type": "markdown",
   "id": "a672d006-6945-4a09-91a9-b563d559d421",
   "metadata": {},
   "source": [
    "### Observations\n",
    "#### We can see that in our dataset:\n",
    "* ##### only 4 columns (Gender, Profession, Salary, Partner_salary) have null values."
   ]
  },
  {
   "cell_type": "code",
   "execution_count": 10,
   "id": "e8399b3f-29a2-44d5-81bc-98f3e5f63912",
   "metadata": {},
   "outputs": [
    {
     "data": {
      "text/plain": [
       "Age                 0.000000\n",
       "Gender              3.352309\n",
       "Profession          0.379507\n",
       "Marital_status      0.000000\n",
       "Education           0.000000\n",
       "No_of_Dependents    0.000000\n",
       "Personal_loan       0.000000\n",
       "House_loan          0.000000\n",
       "Partner_working     0.000000\n",
       "Salary              0.822264\n",
       "Partner_salary      6.704617\n",
       "Total_salary        0.000000\n",
       "Price               0.000000\n",
       "Make                0.000000\n",
       "dtype: float64"
      ]
     },
     "execution_count": 10,
     "metadata": {},
     "output_type": "execute_result"
    }
   ],
   "source": [
    "data.isnull().sum()/len(data)*100"
   ]
  },
  {
   "cell_type": "markdown",
   "id": "8e40cfff-e37d-41e7-b6f5-1466b57ae6d4",
   "metadata": {},
   "source": [
    "### 7. - Check the duplicate values"
   ]
  },
  {
   "cell_type": "code",
   "execution_count": 11,
   "id": "2792d763-c2ba-4f25-a9eb-3d3db9f139fb",
   "metadata": {},
   "outputs": [
    {
     "data": {
      "text/plain": [
       "0"
      ]
     },
     "execution_count": 11,
     "metadata": {},
     "output_type": "execute_result"
    }
   ],
   "source": [
    "data.duplicated().sum()"
   ]
  },
  {
   "cell_type": "markdown",
   "id": "d04f8e96-d86b-4ed6-a877-3bb8b2f51df6",
   "metadata": {},
   "source": [
    "#### We can see that all the rows are unique and we have no duplicated rows"
   ]
  },
  {
   "cell_type": "markdown",
   "id": "5b8b18c5-3edd-4600-9e75-27d7239bf0ea",
   "metadata": {},
   "source": [
    "### 8. - Check the outliers and their authenticity."
   ]
  },
  {
   "cell_type": "code",
   "execution_count": 13,
   "id": "eb88634d-3a4c-4acf-b519-243c9a9e8594",
   "metadata": {},
   "outputs": [
    {
     "data": {
      "image/png": "[encoded data removed]",
      "text/plain": [
       "<Figure size 1000x300 with 1 Axes>"
      ]
     },
     "metadata": {},
     "output_type": "display_data"
    },
    {
     "data": {
      "image/png": "[encoded data removed]",
      "text/plain": [
       "<Figure size 1000x300 with 1 Axes>"
      ]
     },
     "metadata": {},
     "output_type": "display_data"
    },
    {
     "data": {
      "image/png": "[encoded data removed]",
      "text/plain": [
       "<Figure size 1000x300 with 1 Axes>"
      ]
     },
     "metadata": {},
     "output_type": "display_data"
    },
    {
     "data": {
      "image/png": "[encoded data removed]",
      "text/plain": [
       "<Figure size 1000x300 with 1 Axes>"
      ]
     },
     "metadata": {},
     "output_type": "display_data"
    },
    {
     "data": {
      "image/png": "[encoded data removed]",
      "text/plain": [
       "<Figure size 1000x300 with 1 Axes>"
      ]
     },
     "metadata": {},
     "output_type": "display_data"
    }
   ],
   "source": [
    "# creating boxplot for checking the outliers\n",
    "for i in [\"Age\",\"Salary\",\"Partner_salary\",\"Total_salary\",\"Price\"]:\n",
    "    plt.figure(figsize = (10,3))\n",
    "    sns.boxplot(data = data, x=i)\n",
    "    plt.show()"
   ]
  },
  {
   "cell_type": "markdown",
   "id": "8cf4d434-84b0-4735-80db-4d190b74ed75",
   "metadata": {},
   "source": [
    "### Observations\n",
    "#### we can see that:\n",
    "* ##### Column 'Age','Total Salary and 'Price' has outliers which needed to be seen"
   ]
  },
  {
   "cell_type": "code",
   "execution_count": 14,
   "id": "3aebad4c-9035-42f8-9a8d-894a3db888eb",
   "metadata": {},
   "outputs": [],
   "source": [
    "def remove_outlier(col):\n",
    "    sorted(col)\n",
    "    Q1,Q3=col.quantile([0.25,0.75])\n",
    "    IQR=Q3-Q1\n",
    "    lower_range= Q1-(1.5 * IQR)\n",
    "    upper_range= Q3+(1.5 * IQR)\n",
    "    return lower_range, upper_range "
   ]
  },
  {
   "cell_type": "code",
   "execution_count": 15,
   "id": "a0d96ad1-fa52-4e6c-839e-2b8a299c7723",
   "metadata": {},
   "outputs": [],
   "source": [
    "ll,ul = remove_outlier(data[\"Total_salary\"])"
   ]
  },
  {
   "cell_type": "code",
   "execution_count": 16,
   "id": "79a45ca9-0e34-4ff6-bb19-4d008cb20ac6",
   "metadata": {},
   "outputs": [
    {
     "data": {
      "text/html": [
       "<div>\n",
       "<style scoped>\n",
       "    .dataframe tbody tr th:only-of-type {\n",
       "        vertical-align: middle;\n",
       "    }\n",
       "\n",
       "    .dataframe tbody tr th {\n",
       "        vertical-align: top;\n",
       "    }\n",
       "\n",
       "    .dataframe thead th {\n",
       "        text-align: right;\n",
       "    }\n",
       "</style>\n",
       "<table border=\"1\" class=\"dataframe\">\n",
       "  <thead>\n",
       "    <tr style=\"text-align: right;\">\n",
       "      <th></th>\n",
       "      <th>Age</th>\n",
       "      <th>Gender</th>\n",
       "      <th>Profession</th>\n",
       "      <th>Marital_status</th>\n",
       "      <th>Education</th>\n",
       "      <th>No_of_Dependents</th>\n",
       "      <th>Personal_loan</th>\n",
       "      <th>House_loan</th>\n",
       "      <th>Partner_working</th>\n",
       "      <th>Salary</th>\n",
       "      <th>Partner_salary</th>\n",
       "      <th>Total_salary</th>\n",
       "      <th>Price</th>\n",
       "      <th>Make</th>\n",
       "    </tr>\n",
       "  </thead>\n",
       "  <tbody>\n",
       "    <tr>\n",
       "      <th>0</th>\n",
       "      <td>53</td>\n",
       "      <td>Male</td>\n",
       "      <td>Business</td>\n",
       "      <td>Married</td>\n",
       "      <td>Post Graduate</td>\n",
       "      <td>4</td>\n",
       "      <td>No</td>\n",
       "      <td>No</td>\n",
       "      <td>Yes</td>\n",
       "      <td>99300.0</td>\n",
       "      <td>70700.0</td>\n",
       "      <td>170000</td>\n",
       "      <td>61000</td>\n",
       "      <td>SUV</td>\n",
       "    </tr>\n",
       "    <tr>\n",
       "      <th>1</th>\n",
       "      <td>53</td>\n",
       "      <td>Femal</td>\n",
       "      <td>Salaried</td>\n",
       "      <td>Married</td>\n",
       "      <td>Post Graduate</td>\n",
       "      <td>4</td>\n",
       "      <td>Yes</td>\n",
       "      <td>No</td>\n",
       "      <td>Yes</td>\n",
       "      <td>95500.0</td>\n",
       "      <td>70300.0</td>\n",
       "      <td>165800</td>\n",
       "      <td>61000</td>\n",
       "      <td>SUV</td>\n",
       "    </tr>\n",
       "    <tr>\n",
       "      <th>2</th>\n",
       "      <td>53</td>\n",
       "      <td>Female</td>\n",
       "      <td>Salaried</td>\n",
       "      <td>Married</td>\n",
       "      <td>Post Graduate</td>\n",
       "      <td>3</td>\n",
       "      <td>No</td>\n",
       "      <td>No</td>\n",
       "      <td>Yes</td>\n",
       "      <td>97300.0</td>\n",
       "      <td>60700.0</td>\n",
       "      <td>158000</td>\n",
       "      <td>57000</td>\n",
       "      <td>SUV</td>\n",
       "    </tr>\n",
       "    <tr>\n",
       "      <th>17</th>\n",
       "      <td>49</td>\n",
       "      <td>Female</td>\n",
       "      <td>Salaried</td>\n",
       "      <td>Married</td>\n",
       "      <td>Post Graduate</td>\n",
       "      <td>4</td>\n",
       "      <td>No</td>\n",
       "      <td>No</td>\n",
       "      <td>Yes</td>\n",
       "      <td>95100.0</td>\n",
       "      <td>70600.0</td>\n",
       "      <td>165700</td>\n",
       "      <td>64000</td>\n",
       "      <td>SUV</td>\n",
       "    </tr>\n",
       "    <tr>\n",
       "      <th>18</th>\n",
       "      <td>120</td>\n",
       "      <td>Female</td>\n",
       "      <td>Business</td>\n",
       "      <td>Married</td>\n",
       "      <td>Post Graduate</td>\n",
       "      <td>3</td>\n",
       "      <td>No</td>\n",
       "      <td>No</td>\n",
       "      <td>Yes</td>\n",
       "      <td>92600.0</td>\n",
       "      <td>70300.0</td>\n",
       "      <td>162900</td>\n",
       "      <td>58000</td>\n",
       "      <td>SUV</td>\n",
       "    </tr>\n",
       "    <tr>\n",
       "      <th>19</th>\n",
       "      <td>49</td>\n",
       "      <td>Male</td>\n",
       "      <td>Salaried</td>\n",
       "      <td>Married</td>\n",
       "      <td>Post Graduate</td>\n",
       "      <td>3</td>\n",
       "      <td>Yes</td>\n",
       "      <td>No</td>\n",
       "      <td>Yes</td>\n",
       "      <td>98400.0</td>\n",
       "      <td>60600.0</td>\n",
       "      <td>159000</td>\n",
       "      <td>54000</td>\n",
       "      <td>SUV</td>\n",
       "    </tr>\n",
       "    <tr>\n",
       "      <th>29</th>\n",
       "      <td>46</td>\n",
       "      <td>Female</td>\n",
       "      <td>Salaried</td>\n",
       "      <td>Married</td>\n",
       "      <td>Post Graduate</td>\n",
       "      <td>2</td>\n",
       "      <td>No</td>\n",
       "      <td>No</td>\n",
       "      <td>Yes</td>\n",
       "      <td>98300.0</td>\n",
       "      <td>70700.0</td>\n",
       "      <td>169000</td>\n",
       "      <td>61000</td>\n",
       "      <td>SUV</td>\n",
       "    </tr>\n",
       "    <tr>\n",
       "      <th>30</th>\n",
       "      <td>46</td>\n",
       "      <td>Male</td>\n",
       "      <td>Salaried</td>\n",
       "      <td>Married</td>\n",
       "      <td>Post Graduate</td>\n",
       "      <td>4</td>\n",
       "      <td>No</td>\n",
       "      <td>No</td>\n",
       "      <td>Yes</td>\n",
       "      <td>94900.0</td>\n",
       "      <td>70700.0</td>\n",
       "      <td>165600</td>\n",
       "      <td>67000</td>\n",
       "      <td>SUV</td>\n",
       "    </tr>\n",
       "    <tr>\n",
       "      <th>31</th>\n",
       "      <td>46</td>\n",
       "      <td>Male</td>\n",
       "      <td>Business</td>\n",
       "      <td>Married</td>\n",
       "      <td>Graduate</td>\n",
       "      <td>2</td>\n",
       "      <td>Yes</td>\n",
       "      <td>No</td>\n",
       "      <td>Yes</td>\n",
       "      <td>91100.0</td>\n",
       "      <td>70000.0</td>\n",
       "      <td>161100</td>\n",
       "      <td>66000</td>\n",
       "      <td>SUV</td>\n",
       "    </tr>\n",
       "    <tr>\n",
       "      <th>41</th>\n",
       "      <td>53</td>\n",
       "      <td>Female</td>\n",
       "      <td>Salaried</td>\n",
       "      <td>Married</td>\n",
       "      <td>Post Graduate</td>\n",
       "      <td>4</td>\n",
       "      <td>No</td>\n",
       "      <td>No</td>\n",
       "      <td>Yes</td>\n",
       "      <td>96600.0</td>\n",
       "      <td>70300.0</td>\n",
       "      <td>166900</td>\n",
       "      <td>66000</td>\n",
       "      <td>SUV</td>\n",
       "    </tr>\n",
       "    <tr>\n",
       "      <th>42</th>\n",
       "      <td>52</td>\n",
       "      <td>Female</td>\n",
       "      <td>Salaried</td>\n",
       "      <td>Married</td>\n",
       "      <td>Post Graduate</td>\n",
       "      <td>3</td>\n",
       "      <td>No</td>\n",
       "      <td>No</td>\n",
       "      <td>Yes</td>\n",
       "      <td>94900.0</td>\n",
       "      <td>60300.0</td>\n",
       "      <td>155200</td>\n",
       "      <td>55000</td>\n",
       "      <td>SUV</td>\n",
       "    </tr>\n",
       "    <tr>\n",
       "      <th>49</th>\n",
       "      <td>52</td>\n",
       "      <td>Female</td>\n",
       "      <td>Business</td>\n",
       "      <td>Married</td>\n",
       "      <td>Post Graduate</td>\n",
       "      <td>4</td>\n",
       "      <td>No</td>\n",
       "      <td>No</td>\n",
       "      <td>Yes</td>\n",
       "      <td>90300.0</td>\n",
       "      <td>NaN</td>\n",
       "      <td>170400</td>\n",
       "      <td>69000</td>\n",
       "      <td>SUV</td>\n",
       "    </tr>\n",
       "    <tr>\n",
       "      <th>56</th>\n",
       "      <td>51</td>\n",
       "      <td>Female</td>\n",
       "      <td>Salaried</td>\n",
       "      <td>Married</td>\n",
       "      <td>Post Graduate</td>\n",
       "      <td>2</td>\n",
       "      <td>No</td>\n",
       "      <td>No</td>\n",
       "      <td>Yes</td>\n",
       "      <td>90600.0</td>\n",
       "      <td>80400.0</td>\n",
       "      <td>171000</td>\n",
       "      <td>69000</td>\n",
       "      <td>SUV</td>\n",
       "    </tr>\n",
       "    <tr>\n",
       "      <th>57</th>\n",
       "      <td>54</td>\n",
       "      <td>Male</td>\n",
       "      <td>Business</td>\n",
       "      <td>Married</td>\n",
       "      <td>Post Graduate</td>\n",
       "      <td>2</td>\n",
       "      <td>No</td>\n",
       "      <td>No</td>\n",
       "      <td>Yes</td>\n",
       "      <td>93900.0</td>\n",
       "      <td>60200.0</td>\n",
       "      <td>154100</td>\n",
       "      <td>57000</td>\n",
       "      <td>SUV</td>\n",
       "    </tr>\n",
       "    <tr>\n",
       "      <th>75</th>\n",
       "      <td>52</td>\n",
       "      <td>Female</td>\n",
       "      <td>Salaried</td>\n",
       "      <td>Married</td>\n",
       "      <td>Post Graduate</td>\n",
       "      <td>4</td>\n",
       "      <td>No</td>\n",
       "      <td>No</td>\n",
       "      <td>Yes</td>\n",
       "      <td>93900.0</td>\n",
       "      <td>70800.0</td>\n",
       "      <td>164700</td>\n",
       "      <td>68000</td>\n",
       "      <td>SUV</td>\n",
       "    </tr>\n",
       "    <tr>\n",
       "      <th>76</th>\n",
       "      <td>52</td>\n",
       "      <td>Male</td>\n",
       "      <td>Salaried</td>\n",
       "      <td>Married</td>\n",
       "      <td>Graduate</td>\n",
       "      <td>2</td>\n",
       "      <td>No</td>\n",
       "      <td>No</td>\n",
       "      <td>Yes</td>\n",
       "      <td>91000.0</td>\n",
       "      <td>70800.0</td>\n",
       "      <td>161800</td>\n",
       "      <td>60000</td>\n",
       "      <td>SUV</td>\n",
       "    </tr>\n",
       "    <tr>\n",
       "      <th>87</th>\n",
       "      <td>51</td>\n",
       "      <td>Male</td>\n",
       "      <td>Salaried</td>\n",
       "      <td>Married</td>\n",
       "      <td>Post Graduate</td>\n",
       "      <td>3</td>\n",
       "      <td>No</td>\n",
       "      <td>No</td>\n",
       "      <td>Yes</td>\n",
       "      <td>92600.0</td>\n",
       "      <td>60900.0</td>\n",
       "      <td>153500</td>\n",
       "      <td>55000</td>\n",
       "      <td>SUV</td>\n",
       "    </tr>\n",
       "    <tr>\n",
       "      <th>98</th>\n",
       "      <td>50</td>\n",
       "      <td>Female</td>\n",
       "      <td>Salaried</td>\n",
       "      <td>Married</td>\n",
       "      <td>Post Graduate</td>\n",
       "      <td>4</td>\n",
       "      <td>Yes</td>\n",
       "      <td>No</td>\n",
       "      <td>Yes</td>\n",
       "      <td>99300.0</td>\n",
       "      <td>70000.0</td>\n",
       "      <td>169300</td>\n",
       "      <td>66000</td>\n",
       "      <td>SUV</td>\n",
       "    </tr>\n",
       "    <tr>\n",
       "      <th>99</th>\n",
       "      <td>50</td>\n",
       "      <td>Male</td>\n",
       "      <td>Salaried</td>\n",
       "      <td>Married</td>\n",
       "      <td>Post Graduate</td>\n",
       "      <td>3</td>\n",
       "      <td>Yes</td>\n",
       "      <td>No</td>\n",
       "      <td>Yes</td>\n",
       "      <td>98600.0</td>\n",
       "      <td>60500.0</td>\n",
       "      <td>159100</td>\n",
       "      <td>56000</td>\n",
       "      <td>SUV</td>\n",
       "    </tr>\n",
       "    <tr>\n",
       "      <th>103</th>\n",
       "      <td>49</td>\n",
       "      <td>Male</td>\n",
       "      <td>Business</td>\n",
       "      <td>Married</td>\n",
       "      <td>Graduate</td>\n",
       "      <td>4</td>\n",
       "      <td>No</td>\n",
       "      <td>No</td>\n",
       "      <td>Yes</td>\n",
       "      <td>92300.0</td>\n",
       "      <td>70000.0</td>\n",
       "      <td>162300</td>\n",
       "      <td>67000</td>\n",
       "      <td>SUV</td>\n",
       "    </tr>\n",
       "    <tr>\n",
       "      <th>111</th>\n",
       "      <td>48</td>\n",
       "      <td>Female</td>\n",
       "      <td>Business</td>\n",
       "      <td>Married</td>\n",
       "      <td>Graduate</td>\n",
       "      <td>3</td>\n",
       "      <td>No</td>\n",
       "      <td>No</td>\n",
       "      <td>Yes</td>\n",
       "      <td>90300.0</td>\n",
       "      <td>NaN</td>\n",
       "      <td>161100</td>\n",
       "      <td>62000</td>\n",
       "      <td>SUV</td>\n",
       "    </tr>\n",
       "    <tr>\n",
       "      <th>116</th>\n",
       "      <td>47</td>\n",
       "      <td>Male</td>\n",
       "      <td>Business</td>\n",
       "      <td>Married</td>\n",
       "      <td>Graduate</td>\n",
       "      <td>4</td>\n",
       "      <td>Yes</td>\n",
       "      <td>No</td>\n",
       "      <td>Yes</td>\n",
       "      <td>86000.0</td>\n",
       "      <td>80500.0</td>\n",
       "      <td>166500</td>\n",
       "      <td>69000</td>\n",
       "      <td>SUV</td>\n",
       "    </tr>\n",
       "    <tr>\n",
       "      <th>117</th>\n",
       "      <td>47</td>\n",
       "      <td>Male</td>\n",
       "      <td>Salaried</td>\n",
       "      <td>Married</td>\n",
       "      <td>Graduate</td>\n",
       "      <td>2</td>\n",
       "      <td>No</td>\n",
       "      <td>No</td>\n",
       "      <td>Yes</td>\n",
       "      <td>86100.0</td>\n",
       "      <td>70800.0</td>\n",
       "      <td>156900</td>\n",
       "      <td>58000</td>\n",
       "      <td>SUV</td>\n",
       "    </tr>\n",
       "    <tr>\n",
       "      <th>130</th>\n",
       "      <td>46</td>\n",
       "      <td>Female</td>\n",
       "      <td>Salaried</td>\n",
       "      <td>Married</td>\n",
       "      <td>Post Graduate</td>\n",
       "      <td>3</td>\n",
       "      <td>No</td>\n",
       "      <td>No</td>\n",
       "      <td>Yes</td>\n",
       "      <td>98900.0</td>\n",
       "      <td>60000.0</td>\n",
       "      <td>158900</td>\n",
       "      <td>56000</td>\n",
       "      <td>SUV</td>\n",
       "    </tr>\n",
       "    <tr>\n",
       "      <th>131</th>\n",
       "      <td>46</td>\n",
       "      <td>Male</td>\n",
       "      <td>Salaried</td>\n",
       "      <td>Married</td>\n",
       "      <td>Post Graduate</td>\n",
       "      <td>3</td>\n",
       "      <td>Yes</td>\n",
       "      <td>No</td>\n",
       "      <td>Yes</td>\n",
       "      <td>97700.0</td>\n",
       "      <td>60000.0</td>\n",
       "      <td>157700</td>\n",
       "      <td>58000</td>\n",
       "      <td>SUV</td>\n",
       "    </tr>\n",
       "    <tr>\n",
       "      <th>277</th>\n",
       "      <td>41</td>\n",
       "      <td>Male</td>\n",
       "      <td>Salaried</td>\n",
       "      <td>Married</td>\n",
       "      <td>Post Graduate</td>\n",
       "      <td>3</td>\n",
       "      <td>No</td>\n",
       "      <td>No</td>\n",
       "      <td>Yes</td>\n",
       "      <td>87000.0</td>\n",
       "      <td>70900.0</td>\n",
       "      <td>157900</td>\n",
       "      <td>61000</td>\n",
       "      <td>SUV</td>\n",
       "    </tr>\n",
       "    <tr>\n",
       "      <th>329</th>\n",
       "      <td>39</td>\n",
       "      <td>Female</td>\n",
       "      <td>Salaried</td>\n",
       "      <td>Married</td>\n",
       "      <td>Post Graduate</td>\n",
       "      <td>3</td>\n",
       "      <td>No</td>\n",
       "      <td>No</td>\n",
       "      <td>Yes</td>\n",
       "      <td>87500.0</td>\n",
       "      <td>70700.0</td>\n",
       "      <td>158200</td>\n",
       "      <td>68000</td>\n",
       "      <td>SUV</td>\n",
       "    </tr>\n",
       "  </tbody>\n",
       "</table>\n",
       "</div>"
      ],
      "text/plain": [
       "     Age  Gender Profession Marital_status      Education No_of_Dependents  \\\n",
       "0     53    Male   Business        Married  Post Graduate                4   \n",
       "1     53   Femal   Salaried        Married  Post Graduate                4   \n",
       "2     53  Female   Salaried        Married  Post Graduate                3   \n",
       "17    49  Female   Salaried        Married  Post Graduate                4   \n",
       "18   120  Female   Business        Married  Post Graduate                3   \n",
       "19    49    Male   Salaried        Married  Post Graduate                3   \n",
       "29    46  Female   Salaried        Married  Post Graduate                2   \n",
       "30    46    Male   Salaried        Married  Post Graduate                4   \n",
       "31    46    Male   Business        Married       Graduate                2   \n",
       "41    53  Female   Salaried        Married  Post Graduate                4   \n",
       "42    52  Female   Salaried        Married  Post Graduate                3   \n",
       "49    52  Female   Business        Married  Post Graduate                4   \n",
       "56    51  Female   Salaried        Married  Post Graduate                2   \n",
       "57    54    Male   Business        Married  Post Graduate                2   \n",
       "75    52  Female   Salaried        Married  Post Graduate                4   \n",
       "76    52    Male   Salaried        Married       Graduate                2   \n",
       "87    51    Male   Salaried        Married  Post Graduate                3   \n",
       "98    50  Female   Salaried        Married  Post Graduate                4   \n",
       "99    50    Male   Salaried        Married  Post Graduate                3   \n",
       "103   49    Male   Business        Married       Graduate                4   \n",
       "111   48  Female   Business        Married       Graduate                3   \n",
       "116   47    Male   Business        Married       Graduate                4   \n",
       "117   47    Male   Salaried        Married       Graduate                2   \n",
       "130   46  Female   Salaried        Married  Post Graduate                3   \n",
       "131   46    Male   Salaried        Married  Post Graduate                3   \n",
       "277   41    Male   Salaried        Married  Post Graduate                3   \n",
       "329   39  Female   Salaried        Married  Post Graduate                3   \n",
       "\n",
       "    Personal_loan House_loan Partner_working   Salary  Partner_salary  \\\n",
       "0              No         No             Yes  99300.0         70700.0   \n",
       "1             Yes         No             Yes  95500.0         70300.0   \n",
       "2              No         No             Yes  97300.0         60700.0   \n",
       "17             No         No             Yes  95100.0         70600.0   \n",
       "18             No         No             Yes  92600.0         70300.0   \n",
       "19            Yes         No             Yes  98400.0         60600.0   \n",
       "29             No         No             Yes  98300.0         70700.0   \n",
       "30             No         No             Yes  94900.0         70700.0   \n",
       "31            Yes         No             Yes  91100.0         70000.0   \n",
       "41             No         No             Yes  96600.0         70300.0   \n",
       "42             No         No             Yes  94900.0         60300.0   \n",
       "49             No         No             Yes  90300.0             NaN   \n",
       "56             No         No             Yes  90600.0         80400.0   \n",
       "57             No         No             Yes  93900.0         60200.0   \n",
       "75             No         No             Yes  93900.0         70800.0   \n",
       "76             No         No             Yes  91000.0         70800.0   \n",
       "87             No         No             Yes  92600.0         60900.0   \n",
       "98            Yes         No             Yes  99300.0         70000.0   \n",
       "99            Yes         No             Yes  98600.0         60500.0   \n",
       "103            No         No             Yes  92300.0         70000.0   \n",
       "111            No         No             Yes  90300.0             NaN   \n",
       "116           Yes         No             Yes  86000.0         80500.0   \n",
       "117            No         No             Yes  86100.0         70800.0   \n",
       "130            No         No             Yes  98900.0         60000.0   \n",
       "131           Yes         No             Yes  97700.0         60000.0   \n",
       "277            No         No             Yes  87000.0         70900.0   \n",
       "329            No         No             Yes  87500.0         70700.0   \n",
       "\n",
       "     Total_salary  Price Make  \n",
       "0          170000  61000  SUV  \n",
       "1          165800  61000  SUV  \n",
       "2          158000  57000  SUV  \n",
       "17         165700  64000  SUV  \n",
       "18         162900  58000  SUV  \n",
       "19         159000  54000  SUV  \n",
       "29         169000  61000  SUV  \n",
       "30         165600  67000  SUV  \n",
       "31         161100  66000  SUV  \n",
       "41         166900  66000  SUV  \n",
       "42         155200  55000  SUV  \n",
       "49         170400  69000  SUV  \n",
       "56         171000  69000  SUV  \n",
       "57         154100  57000  SUV  \n",
       "75         164700  68000  SUV  \n",
       "76         161800  60000  SUV  \n",
       "87         153500  55000  SUV  \n",
       "98         169300  66000  SUV  \n",
       "99         159100  56000  SUV  \n",
       "103        162300  67000  SUV  \n",
       "111        161100  62000  SUV  \n",
       "116        166500  69000  SUV  \n",
       "117        156900  58000  SUV  \n",
       "130        158900  56000  SUV  \n",
       "131        157700  58000  SUV  \n",
       "277        157900  61000  SUV  \n",
       "329        158200  68000  SUV  "
      ]
     },
     "execution_count": 16,
     "metadata": {},
     "output_type": "execute_result"
    }
   ],
   "source": [
    "data[data[\"Total_salary\"]>ul]"
   ]
  },
  {
   "cell_type": "markdown",
   "id": "ca04a2f8-823e-4d80-a59d-87a72922172f",
   "metadata": {},
   "source": [
    "### Observation\n",
    "##### we can see that in the Total_salary column we have outliers but they are correct and genuine values so they need not to be replaced"
   ]
  },
  {
   "cell_type": "markdown",
   "id": "39a64f05-71c8-47e4-9e24-e0229c90610c",
   "metadata": {},
   "source": [
    "### 9. - Removing Anomalies"
   ]
  },
  {
   "cell_type": "code",
   "execution_count": 17,
   "id": "0879b588-0cb6-4730-bc52-018b87d0d4b0",
   "metadata": {},
   "outputs": [
    {
     "data": {
      "text/plain": [
       "array(['4', '3', '?', '2', '1', '0'], dtype=object)"
      ]
     },
     "execution_count": 17,
     "metadata": {},
     "output_type": "execute_result"
    }
   ],
   "source": [
    "data['No_of_Dependents'].unique()"
   ]
  },
  {
   "cell_type": "code",
   "execution_count": 18,
   "id": "e216b5b2-369c-4b70-b3f9-1ce2e856fa6c",
   "metadata": {},
   "outputs": [
    {
     "data": {
      "text/plain": [
       "No_of_Dependents\n",
       "3    557\n",
       "2    556\n",
       "1    229\n",
       "4    217\n",
       "0     20\n",
       "?      2\n",
       "Name: count, dtype: int64"
      ]
     },
     "execution_count": 18,
     "metadata": {},
     "output_type": "execute_result"
    }
   ],
   "source": [
    "data['No_of_Dependents'].value_counts()"
   ]
  },
  {
   "cell_type": "code",
   "execution_count": 19,
   "id": "236d274d-d574-4a0d-880a-56a82eec78f9",
   "metadata": {},
   "outputs": [
    {
     "data": {
      "text/html": [
       "<div>\n",
       "<style scoped>\n",
       "    .dataframe tbody tr th:only-of-type {\n",
       "        vertical-align: middle;\n",
       "    }\n",
       "\n",
       "    .dataframe tbody tr th {\n",
       "        vertical-align: top;\n",
       "    }\n",
       "\n",
       "    .dataframe thead th {\n",
       "        text-align: right;\n",
       "    }\n",
       "</style>\n",
       "<table border=\"1\" class=\"dataframe\">\n",
       "  <thead>\n",
       "    <tr style=\"text-align: right;\">\n",
       "      <th></th>\n",
       "      <th>Age</th>\n",
       "      <th>Gender</th>\n",
       "      <th>Profession</th>\n",
       "      <th>Marital_status</th>\n",
       "      <th>Education</th>\n",
       "      <th>No_of_Dependents</th>\n",
       "      <th>Personal_loan</th>\n",
       "      <th>House_loan</th>\n",
       "      <th>Partner_working</th>\n",
       "      <th>Salary</th>\n",
       "      <th>Partner_salary</th>\n",
       "      <th>Total_salary</th>\n",
       "      <th>Price</th>\n",
       "      <th>Make</th>\n",
       "    </tr>\n",
       "  </thead>\n",
       "  <tbody>\n",
       "    <tr>\n",
       "      <th>3</th>\n",
       "      <td>53</td>\n",
       "      <td>Female</td>\n",
       "      <td>Salaried</td>\n",
       "      <td>Married</td>\n",
       "      <td>Graduate</td>\n",
       "      <td>?</td>\n",
       "      <td>Yes</td>\n",
       "      <td>No</td>\n",
       "      <td>Yes</td>\n",
       "      <td>72500.0</td>\n",
       "      <td>70300.0</td>\n",
       "      <td>142800</td>\n",
       "      <td>61000</td>\n",
       "      <td>?</td>\n",
       "    </tr>\n",
       "    <tr>\n",
       "      <th>8</th>\n",
       "      <td>52</td>\n",
       "      <td>Male</td>\n",
       "      <td>Salaried</td>\n",
       "      <td>Married</td>\n",
       "      <td>Post Graduate</td>\n",
       "      <td>?</td>\n",
       "      <td>No</td>\n",
       "      <td>No</td>\n",
       "      <td>No</td>\n",
       "      <td>89400.0</td>\n",
       "      <td>0.0</td>\n",
       "      <td>89400</td>\n",
       "      <td>61000</td>\n",
       "      <td>SUV</td>\n",
       "    </tr>\n",
       "  </tbody>\n",
       "</table>\n",
       "</div>"
      ],
      "text/plain": [
       "   Age  Gender Profession Marital_status      Education No_of_Dependents  \\\n",
       "3   53  Female   Salaried        Married       Graduate                ?   \n",
       "8   52    Male   Salaried        Married  Post Graduate                ?   \n",
       "\n",
       "  Personal_loan House_loan Partner_working   Salary  Partner_salary  \\\n",
       "3           Yes         No             Yes  72500.0         70300.0   \n",
       "8            No         No              No  89400.0             0.0   \n",
       "\n",
       "   Total_salary  Price Make  \n",
       "3        142800  61000    ?  \n",
       "8         89400  61000  SUV  "
      ]
     },
     "execution_count": 19,
     "metadata": {},
     "output_type": "execute_result"
    }
   ],
   "source": [
    "data[data['No_of_Dependents'] == '?']"
   ]
  },
  {
   "cell_type": "code",
   "execution_count": 20,
   "id": "736f741f-cad2-4de3-8266-4919fd19c44f",
   "metadata": {},
   "outputs": [
    {
     "name": "stdout",
     "output_type": "stream",
     "text": [
      "int64\n",
      "0    4\n",
      "1    4\n",
      "2    3\n",
      "3    3\n",
      "4    3\n",
      "Name: No_of_Dependents, dtype: int64\n"
     ]
    }
   ],
   "source": [
    "data['No_of_Dependents'] = data['No_of_Dependents'].replace('?', np.nan)\n",
    "\n",
    "# Convert column to numeric\n",
    "data['No_of_Dependents'] = pd.to_numeric(data['No_of_Dependents'], errors='coerce')\n",
    "\n",
    "mode_value = data['No_of_Dependents'].mode()[0]\n",
    "data['No_of_Dependents'] = data['No_of_Dependents'].fillna(mode_value)\n",
    "\n",
    "data['No_of_Dependents'] = data['No_of_Dependents'].astype('int64')\n",
    "\n",
    "# Verify the changes\n",
    "print(data['No_of_Dependents'].dtype)\n",
    "print(data['No_of_Dependents'].head())\n"
   ]
  },
  {
   "cell_type": "code",
   "execution_count": 21,
   "id": "eb49f6d6-bd43-4ed8-a2b9-9416d540f6a1",
   "metadata": {},
   "outputs": [
    {
     "data": {
      "text/plain": [
       "array([4, 3, 2, 1, 0], dtype=int64)"
      ]
     },
     "execution_count": 21,
     "metadata": {},
     "output_type": "execute_result"
    }
   ],
   "source": [
    "data['No_of_Dependents'].unique()"
   ]
  },
  {
   "cell_type": "code",
   "execution_count": 23,
   "id": "5d0fbd3a-ba86-4198-866c-62e9db132ca8",
   "metadata": {},
   "outputs": [
    {
     "data": {
      "text/plain": [
       "No_of_Dependents\n",
       "3    559\n",
       "2    556\n",
       "1    229\n",
       "4    217\n",
       "0     20\n",
       "Name: count, dtype: int64"
      ]
     },
     "execution_count": 23,
     "metadata": {},
     "output_type": "execute_result"
    }
   ],
   "source": [
    "data['No_of_Dependents'].value_counts()"
   ]
  },
  {
   "cell_type": "code",
   "execution_count": 22,
   "id": "35ece650-b7a4-44b1-8b08-aa549d756e3a",
   "metadata": {},
   "outputs": [
    {
     "data": {
      "text/plain": [
       "array(['SUV', '?', 'Sedan', 'Hatchback'], dtype=object)"
      ]
     },
     "execution_count": 22,
     "metadata": {},
     "output_type": "execute_result"
    }
   ],
   "source": [
    "data['Make'].unique()"
   ]
  },
  {
   "cell_type": "code",
   "execution_count": 24,
   "id": "050efaea-5b83-4d1c-b9d2-ddc758fbee52",
   "metadata": {},
   "outputs": [
    {
     "data": {
      "text/plain": [
       "Make\n",
       "Sedan        702\n",
       "Hatchback    582\n",
       "SUV          295\n",
       "?              2\n",
       "Name: count, dtype: int64"
      ]
     },
     "execution_count": 24,
     "metadata": {},
     "output_type": "execute_result"
    }
   ],
   "source": [
    "data['Make'].value_counts()"
   ]
  },
  {
   "cell_type": "code",
   "execution_count": 25,
   "id": "177bf6b7-31e7-45d0-82fe-0fdd58be5525",
   "metadata": {},
   "outputs": [
    {
     "data": {
      "text/html": [
       "<div>\n",
       "<style scoped>\n",
       "    .dataframe tbody tr th:only-of-type {\n",
       "        vertical-align: middle;\n",
       "    }\n",
       "\n",
       "    .dataframe tbody tr th {\n",
       "        vertical-align: top;\n",
       "    }\n",
       "\n",
       "    .dataframe thead th {\n",
       "        text-align: right;\n",
       "    }\n",
       "</style>\n",
       "<table border=\"1\" class=\"dataframe\">\n",
       "  <thead>\n",
       "    <tr style=\"text-align: right;\">\n",
       "      <th></th>\n",
       "      <th>Age</th>\n",
       "      <th>Gender</th>\n",
       "      <th>Profession</th>\n",
       "      <th>Marital_status</th>\n",
       "      <th>Education</th>\n",
       "      <th>No_of_Dependents</th>\n",
       "      <th>Personal_loan</th>\n",
       "      <th>House_loan</th>\n",
       "      <th>Partner_working</th>\n",
       "      <th>Salary</th>\n",
       "      <th>Partner_salary</th>\n",
       "      <th>Total_salary</th>\n",
       "      <th>Price</th>\n",
       "      <th>Make</th>\n",
       "    </tr>\n",
       "  </thead>\n",
       "  <tbody>\n",
       "    <tr>\n",
       "      <th>3</th>\n",
       "      <td>53</td>\n",
       "      <td>Female</td>\n",
       "      <td>Salaried</td>\n",
       "      <td>Married</td>\n",
       "      <td>Graduate</td>\n",
       "      <td>3</td>\n",
       "      <td>Yes</td>\n",
       "      <td>No</td>\n",
       "      <td>Yes</td>\n",
       "      <td>72500.0</td>\n",
       "      <td>70300.0</td>\n",
       "      <td>142800</td>\n",
       "      <td>61000</td>\n",
       "      <td>?</td>\n",
       "    </tr>\n",
       "    <tr>\n",
       "      <th>9</th>\n",
       "      <td>52</td>\n",
       "      <td>Male</td>\n",
       "      <td>Salaried</td>\n",
       "      <td>Married</td>\n",
       "      <td>Post Graduate</td>\n",
       "      <td>3</td>\n",
       "      <td>No</td>\n",
       "      <td>No</td>\n",
       "      <td>No</td>\n",
       "      <td>NaN</td>\n",
       "      <td>0.0</td>\n",
       "      <td>83700</td>\n",
       "      <td>57000</td>\n",
       "      <td>?</td>\n",
       "    </tr>\n",
       "  </tbody>\n",
       "</table>\n",
       "</div>"
      ],
      "text/plain": [
       "   Age  Gender Profession Marital_status      Education  No_of_Dependents  \\\n",
       "3   53  Female   Salaried        Married       Graduate                 3   \n",
       "9   52    Male   Salaried        Married  Post Graduate                 3   \n",
       "\n",
       "  Personal_loan House_loan Partner_working   Salary  Partner_salary  \\\n",
       "3           Yes         No             Yes  72500.0         70300.0   \n",
       "9            No         No              No      NaN             0.0   \n",
       "\n",
       "   Total_salary  Price Make  \n",
       "3        142800  61000    ?  \n",
       "9         83700  57000    ?  "
      ]
     },
     "execution_count": 25,
     "metadata": {},
     "output_type": "execute_result"
    }
   ],
   "source": [
    "data[data['Make'] == '?']"
   ]
  },
  {
   "cell_type": "code",
   "execution_count": 26,
   "id": "3e10729a-3832-4aca-b230-70ff3a38b331",
   "metadata": {},
   "outputs": [],
   "source": [
    "data['Make'] = data['Make'].replace('?', np.nan)\n",
    "\n",
    "# Fill NaN values with the mode of the column\n",
    "mode_make = data['Make'].mode()[0]\n",
    "data['Make'] = data['Make'].fillna(mode_make)"
   ]
  },
  {
   "cell_type": "code",
   "execution_count": 27,
   "id": "0a89cc99-2e7e-4faf-92d4-fb9245090fdf",
   "metadata": {},
   "outputs": [
    {
     "data": {
      "text/plain": [
       "array(['SUV', 'Sedan', 'Hatchback'], dtype=object)"
      ]
     },
     "execution_count": 27,
     "metadata": {},
     "output_type": "execute_result"
    }
   ],
   "source": [
    "data['Make'].unique()"
   ]
  },
  {
   "cell_type": "code",
   "execution_count": 28,
   "id": "e8ff8514-c494-47db-be69-91d990f6b8d0",
   "metadata": {},
   "outputs": [
    {
     "data": {
      "text/plain": [
       "Make\n",
       "Sedan        704\n",
       "Hatchback    582\n",
       "SUV          295\n",
       "Name: count, dtype: int64"
      ]
     },
     "execution_count": 28,
     "metadata": {},
     "output_type": "execute_result"
    }
   ],
   "source": [
    "data['Make'].value_counts()"
   ]
  },
  {
   "cell_type": "code",
   "execution_count": 29,
   "id": "995e1318-f211-4c03-b162-f574dae4d32e",
   "metadata": {},
   "outputs": [
    {
     "data": {
      "text/html": [
       "<div>\n",
       "<style scoped>\n",
       "    .dataframe tbody tr th:only-of-type {\n",
       "        vertical-align: middle;\n",
       "    }\n",
       "\n",
       "    .dataframe tbody tr th {\n",
       "        vertical-align: top;\n",
       "    }\n",
       "\n",
       "    .dataframe thead th {\n",
       "        text-align: right;\n",
       "    }\n",
       "</style>\n",
       "<table border=\"1\" class=\"dataframe\">\n",
       "  <thead>\n",
       "    <tr style=\"text-align: right;\">\n",
       "      <th></th>\n",
       "      <th>Age</th>\n",
       "      <th>Gender</th>\n",
       "      <th>Profession</th>\n",
       "      <th>Marital_status</th>\n",
       "      <th>Education</th>\n",
       "      <th>No_of_Dependents</th>\n",
       "      <th>Personal_loan</th>\n",
       "      <th>House_loan</th>\n",
       "      <th>Partner_working</th>\n",
       "      <th>Salary</th>\n",
       "      <th>Partner_salary</th>\n",
       "      <th>Total_salary</th>\n",
       "      <th>Price</th>\n",
       "      <th>Make</th>\n",
       "    </tr>\n",
       "  </thead>\n",
       "  <tbody>\n",
       "  </tbody>\n",
       "</table>\n",
       "</div>"
      ],
      "text/plain": [
       "Empty DataFrame\n",
       "Columns: [Age, Gender, Profession, Marital_status, Education, No_of_Dependents, Personal_loan, House_loan, Partner_working, Salary, Partner_salary, Total_salary, Price, Make]\n",
       "Index: []"
      ]
     },
     "execution_count": 29,
     "metadata": {},
     "output_type": "execute_result"
    }
   ],
   "source": [
    "data[data['Make'] == '?']"
   ]
  },
  {
   "cell_type": "code",
   "execution_count": 39,
   "id": "26d958b0-8240-4efa-a4e5-c268dbde2fbd",
   "metadata": {},
   "outputs": [],
   "source": [
    "# Removing the data where age is 14\n",
    "data = data[data['Age'] != 14]\n",
    "data = data[data['Age'] != 120]"
   ]
  },
  {
   "cell_type": "markdown",
   "id": "69964df6-2d5e-4538-a34d-65569973c2be",
   "metadata": {},
   "source": [
    "#### Removing the data where age is 14 as it is an incorrect value"
   ]
  },
  {
   "cell_type": "markdown",
   "id": "d934aa01-3593-45c5-adfc-f9266b186cb1",
   "metadata": {},
   "source": [
    "### 10. - Null value imputation and outlier correction"
   ]
  },
  {
   "cell_type": "code",
   "execution_count": 31,
   "id": "88b3b85d-3585-4453-b6ca-45a9c7e80114",
   "metadata": {},
   "outputs": [
    {
     "data": {
      "text/plain": [
       "Age                   0\n",
       "Gender               53\n",
       "Profession            6\n",
       "Marital_status        0\n",
       "Education             0\n",
       "No_of_Dependents      0\n",
       "Personal_loan         0\n",
       "House_loan            0\n",
       "Partner_working       0\n",
       "Salary               13\n",
       "Partner_salary      106\n",
       "Total_salary          0\n",
       "Price                 0\n",
       "Make                  0\n",
       "dtype: int64"
      ]
     },
     "execution_count": 31,
     "metadata": {},
     "output_type": "execute_result"
    }
   ],
   "source": [
    "data.isnull().sum()"
   ]
  },
  {
   "cell_type": "code",
   "execution_count": 32,
   "id": "0661f1a7-79c7-4c84-b1c3-11e6e5b9f4eb",
   "metadata": {},
   "outputs": [],
   "source": [
    "mode1 = data[\"Gender\"].mode().values[0]\n",
    "mode2 = data[\"Profession\"].mode().values[0]\n",
    "\n",
    "data[\"Gender\"] = data[\"Gender\"].replace(np.nan, mode1)\n",
    "data[\"Profession\"] = data[\"Profession\"].replace(np.nan, mode2)\n"
   ]
  },
  {
   "cell_type": "code",
   "execution_count": 33,
   "id": "4200109d-5f64-4276-8865-5e4dd0b54b31",
   "metadata": {},
   "outputs": [],
   "source": [
    "median1 = data[\"Salary\"].median()\n",
    "median2 = data[\"Partner_salary\"].median()\n",
    "\n",
    "data[\"Salary\"] = data[\"Salary\"].replace(np.nan, median1)\n",
    "data[\"Partner_salary\"] = data[\"Partner_salary\"].replace(np.nan, median2)\n"
   ]
  },
  {
   "cell_type": "code",
   "execution_count": 34,
   "id": "177017a3-0d6c-41b4-b9a1-7209a416e0ba",
   "metadata": {},
   "outputs": [
    {
     "data": {
      "text/plain": [
       "Age                 0\n",
       "Gender              0\n",
       "Profession          0\n",
       "Marital_status      0\n",
       "Education           0\n",
       "No_of_Dependents    0\n",
       "Personal_loan       0\n",
       "House_loan          0\n",
       "Partner_working     0\n",
       "Salary              0\n",
       "Partner_salary      0\n",
       "Total_salary        0\n",
       "Price               0\n",
       "Make                0\n",
       "dtype: int64"
      ]
     },
     "execution_count": 34,
     "metadata": {},
     "output_type": "execute_result"
    }
   ],
   "source": [
    "data.isnull().sum()"
   ]
  },
  {
   "cell_type": "markdown",
   "id": "da0c009e-7de8-4b8e-be1b-91d54f7b355c",
   "metadata": {},
   "source": [
    "#### We can see that now all the null values have been removed"
   ]
  },
  {
   "cell_type": "code",
   "execution_count": 40,
   "id": "3089e352-9a2d-4d40-88d2-a5add7bed2c0",
   "metadata": {},
   "outputs": [
    {
     "name": "stdout",
     "output_type": "stream",
     "text": [
      "Outliers in Price column:\n",
      "Empty DataFrame\n",
      "Columns: [Age, Gender, Profession, Marital_status, Education, No_of_Dependents, Personal_loan, House_loan, Partner_working, Salary, Partner_salary, Total_salary, Price, Make]\n",
      "Index: []\n",
      "\n",
      "Outliers in Age column:\n",
      "Empty DataFrame\n",
      "Columns: [Age, Gender, Profession, Marital_status, Education, No_of_Dependents, Personal_loan, House_loan, Partner_working, Salary, Partner_salary, Total_salary, Price, Make]\n",
      "Index: []\n"
     ]
    }
   ],
   "source": [
    "# Function to identify outliers using IQR\n",
    "def find_outliers_iqr(data, column):\n",
    "    Q1 = data[column].quantile(0.25)\n",
    "    Q3 = data[column].quantile(0.75)\n",
    "    IQR = Q3 - Q1\n",
    "    lower_bound = Q1 - 1.5 * IQR\n",
    "    upper_bound = Q3 + 1.5 * IQR\n",
    "    return data[(data[column] < lower_bound) | (data[column] > upper_bound)]\n",
    "\n",
    "# Identify outliers in Price and Age columns\n",
    "outliers_price = find_outliers_iqr(data, 'Price')\n",
    "outliers_age = find_outliers_iqr(data, 'Age')\n",
    "\n",
    "# Print outliers\n",
    "print(\"Outliers in Price column:\")\n",
    "print(outliers_price)\n",
    "\n",
    "print(\"\\nOutliers in Age column:\")\n",
    "print(outliers_age)\n",
    "\n",
    "#Removing outliers\n",
    "data = data[~data.index.isin(outliers_price.index)]\n",
    "data = data[~data.index.isin(outliers_age.index)]\n",
    "\n"
   ]
  },
  {
   "cell_type": "code",
   "execution_count": 41,
   "id": "8133d242-9c65-4631-b74d-33ec1c08d19a",
   "metadata": {},
   "outputs": [
    {
     "data": {
      "image/png": "[encoded data removed]",
      "text/plain": [
       "<Figure size 1000x300 with 1 Axes>"
      ]
     },
     "metadata": {},
     "output_type": "display_data"
    },
    {
     "data": {
      "image/png": "[encoded data removed]",
      "text/plain": [
       "<Figure size 1000x300 with 1 Axes>"
      ]
     },
     "metadata": {},
     "output_type": "display_data"
    },
    {
     "data": {
      "image/png": "[encoded data removed]",
      "text/plain": [
       "<Figure size 1000x300 with 1 Axes>"
      ]
     },
     "metadata": {},
     "output_type": "display_data"
    },
    {
     "data": {
      "image/png": "[encoded data removed]",
      "text/plain": [
       "<Figure size 1000x300 with 1 Axes>"
      ]
     },
     "metadata": {},
     "output_type": "display_data"
    },
    {
     "data": {
      "image/png": "[encoded data removed]",
      "text/plain": [
       "<Figure size 1000x300 with 1 Axes>"
      ]
     },
     "metadata": {},
     "output_type": "display_data"
    }
   ],
   "source": [
    "# creating boxplot for checking the outliers\n",
    "for i in [\"Age\",\"Salary\",\"Partner_salary\",\"Total_salary\",\"Price\"]:\n",
    "    plt.figure(figsize = (10,3))\n",
    "    sns.boxplot(data = data, x=i)\n",
    "    plt.show()"
   ]
  },
  {
   "cell_type": "markdown",
   "id": "4d0b3eed-348f-4b9c-b8c7-05542e81838d",
   "metadata": {},
   "source": [
    "# Questions"
   ]
  },
  {
   "cell_type": "markdown",
   "id": "bf8b7302-8aa2-4cdd-85a0-7cb1111304a8",
   "metadata": {},
   "source": [
    "## 1. Descriptive Statistics:\n",
    "* ### What are the mean, median, and standard deviation of the ages of individuals in the dataset?\n"
   ]
  },
  {
   "cell_type": "code",
   "execution_count": 42,
   "id": "4a77da93-54b2-4751-bfa9-92beb521a689",
   "metadata": {},
   "outputs": [
    {
     "name": "stdout",
     "output_type": "stream",
     "text": [
      "Mean age: 31.899239543726235\n",
      "Median age: 29.0\n",
      "Standard deviation of age: 8.414551633513101\n"
     ]
    }
   ],
   "source": [
    "# Calculate mean, median, and standard deviation of the 'Age' column\n",
    "mean_age = data['Age'].mean()\n",
    "median_age = data['Age'].median()\n",
    "std_dev_age = data['Age'].std()\n",
    "\n",
    "print(\"Mean age:\", mean_age)\n",
    "print(\"Median age:\", median_age)\n",
    "print(\"Standard deviation of age:\", std_dev_age)"
   ]
  },
  {
   "cell_type": "markdown",
   "id": "244485ca-673b-4558-b469-39fd91e9e8c6",
   "metadata": {},
   "source": [
    "### Observation \n",
    "#### We can infer that:\n",
    "* ##### Mean Age is: 31.9 years\n",
    "* ##### Median Age is: 29 years\n",
    "* ##### Standard Deviation of Age is: 8.4 years"
   ]
  },
  {
   "cell_type": "markdown",
   "id": "ceb0d47c-8436-4dc1-9329-bfbf3b327088",
   "metadata": {},
   "source": [
    "## 2. Data Distribution:\n",
    "* ### What is the distribution of gender in the dataset? Represent it using a pie chart.\n"
   ]
  },
  {
   "cell_type": "code",
   "execution_count": 43,
   "id": "7bba7b8f-d4af-4a5d-a93c-5b9b9da31eeb",
   "metadata": {},
   "outputs": [
    {
     "data": {
      "text/plain": [
       "Gender\n",
       "Male      1251\n",
       "Female     325\n",
       "Femal        1\n",
       "Femle        1\n",
       "Name: count, dtype: int64"
      ]
     },
     "execution_count": 43,
     "metadata": {},
     "output_type": "execute_result"
    }
   ],
   "source": [
    "gender_distribution = data['Gender'].value_counts()\n",
    "gender_distribution"
   ]
  },
  {
   "cell_type": "markdown",
   "id": "12a2bb9d-8cf3-42b4-84f7-f7be2f7a6fbc",
   "metadata": {},
   "source": [
    "### Obseravtion\n",
    "#### We can see that we have 2 enteries as:\n",
    "* ##### Femal\n",
    "* ##### Femle\n",
    "##### These are wrong entries and needed to be corrected"
   ]
  },
  {
   "cell_type": "code",
   "execution_count": 44,
   "id": "60d2721b-8f5a-49e1-9250-634b7d8a4789",
   "metadata": {},
   "outputs": [
    {
     "name": "stdout",
     "output_type": "stream",
     "text": [
      "\n",
      "Unique values in Gender column after correction:\n",
      "['Male' 'Female']\n"
     ]
    }
   ],
   "source": [
    "# Replacing the incorrect entries in the Gender column\n",
    "data['Gender'] = data['Gender'].replace({'Femal': 'Female', 'Femle': 'Female'})\n",
    "\n",
    "print(\"\\nUnique values in Gender column after correction:\")\n",
    "print(data['Gender'].unique())"
   ]
  },
  {
   "cell_type": "code",
   "execution_count": 45,
   "id": "00452777-064b-420d-8c61-c0ba1c3a3b6b",
   "metadata": {},
   "outputs": [
    {
     "data": {
      "image/png": "[encoded data removed]",
      "text/plain": [
       "<Figure size 700x800 with 1 Axes>"
      ]
     },
     "metadata": {},
     "output_type": "display_data"
    }
   ],
   "source": [
    "gender_distribution = data['Gender'].value_counts()\n",
    "\n",
    "# Plot a pie chart\n",
    "plt.figure(figsize=(7, 8))\n",
    "plt.pie(gender_distribution, labels=gender_distribution.index, autopct='%1.1f%%', colors=['skyblue', 'lightgreen'])\n",
    "plt.title('Distribution of Gender in the Dataset')\n",
    "plt.axis('equal')\n",
    "plt.show()"
   ]
  },
  {
   "cell_type": "markdown",
   "id": "1243a2dd-0ac2-4848-befd-c1aaa124051c",
   "metadata": {},
   "source": [
    "### Observation\n",
    "#### From the Pie Chart we can infer that:\n",
    "* ##### There are 79.2% Male.\n",
    "* ##### There are 20.8% Female."
   ]
  },
  {
   "cell_type": "markdown",
   "id": "98032c2b-13c5-40d6-80f4-3cc15fe53be0",
   "metadata": {},
   "source": [
    "## 3. Correlation Analysis:\n",
    "* ### Is there a correlation between age and salary? Provide the correlation coefficient and interpret the result.\n"
   ]
  },
  {
   "cell_type": "code",
   "execution_count": 46,
   "id": "357dc086-7305-475c-a180-33a525da9bf4",
   "metadata": {},
   "outputs": [
    {
     "name": "stdout",
     "output_type": "stream",
     "text": [
      "Correlation coefficient between Age and Salary: 0.6007704272305254\n",
      "There is a positive linear relationship between Age and Salary.\n"
     ]
    }
   ],
   "source": [
    "correlation_coefficient = data['Age'].corr(data['Salary'])\n",
    "\n",
    "print(f\"Correlation coefficient between Age and Salary: {correlation_coefficient:}\")\n",
    "\n",
    "if correlation_coefficient > 0:\n",
    "    interpretation = \"positive\"\n",
    "elif correlation_coefficient < 0:\n",
    "    interpretation = \"negative\"\n",
    "else:\n",
    "    interpretation = \"no\"\n",
    "\n",
    "print(f\"There is a {interpretation} linear relationship between Age and Salary.\")"
   ]
  },
  {
   "cell_type": "markdown",
   "id": "6f7a7042-1833-4edb-8bd6-63f4f4f9f3c3",
   "metadata": {},
   "source": [
    "### Observation\n",
    "#### From this we can infer that:\n",
    "* ##### The correlation between Age and Salary is coming out to be - 0.591\n",
    "* ##### There is a strong positive correlation, meaning as age increases, salary tends to increase."
   ]
  },
  {
   "cell_type": "markdown",
   "id": "50ada747-a8d4-40ab-a41d-6bf3234ac5ff",
   "metadata": {},
   "source": [
    "## 4. Salary Analysis:\n",
    "* ### What is the average salary for individuals based on their educational qualifications (Graduate vs. Post Graduate)?\n"
   ]
  },
  {
   "cell_type": "code",
   "execution_count": 47,
   "id": "a1d26601-ce52-43a3-8fc2-d0af98b2469d",
   "metadata": {},
   "outputs": [
    {
     "name": "stdout",
     "output_type": "stream",
     "text": [
      "Average salary based on educational qualifications:\n",
      "Education\n",
      "Graduate         48514.261745\n",
      "Post Graduate    67328.716904\n",
      "Name: Salary, dtype: float64\n"
     ]
    },
    {
     "data": {
      "image/png": "[encoded data removed]",
      "text/plain": [
       "<Figure size 1000x600 with 1 Axes>"
      ]
     },
     "metadata": {},
     "output_type": "display_data"
    }
   ],
   "source": [
    "average_salary_education = data.groupby('Education')['Salary'].mean()\n",
    "\n",
    "print(\"Average salary based on educational qualifications:\")\n",
    "print(average_salary_education)\n",
    "\n",
    "# Visualize the results using a bar plot\n",
    "average_salary_education.plot(kind='bar', color=['skyblue', 'lightgreen'], figsize=(10, 6))\n",
    "plt.title('Average Salary by Educational Qualification')\n",
    "plt.xlabel('Educational Qualification')\n",
    "plt.ylabel('Average Salary')\n",
    "plt.xticks(rotation=0)\n",
    "plt.grid(axis='y')\n",
    "plt.show()"
   ]
  },
  {
   "cell_type": "markdown",
   "id": "0cf80e0d-5489-449d-bc4e-753373801fae",
   "metadata": {},
   "source": [
    "### Obseravtion\n",
    "#### From this we can infer that:\n",
    "* ##### Average Salary for Graduate person is: Rs 48514.59\n",
    "* ##### Average Salary for Post Graduate person is: Rs 67383.09\n",
    "* ##### The person with Post Graduate qualification have more average salary as compared to to the person with Graduate qualification"
   ]
  },
  {
   "cell_type": "markdown",
   "id": "79788256-4a77-4e1d-bc47-8b8e8023b08d",
   "metadata": {},
   "source": [
    "## 5. Loan Status:\n",
    "* ### What percentage of individuals have taken a personal loan? How does this compare between males and females?\n"
   ]
  },
  {
   "cell_type": "code",
   "execution_count": 49,
   "id": "e736bb4e-8b64-409f-b9c8-2e1def662041",
   "metadata": {},
   "outputs": [
    {
     "name": "stdout",
     "output_type": "stream",
     "text": [
      "Percentage of individuals with a personal loan: 50.13%\n",
      "\n",
      "Percentage of individuals with personal loan by gender:\n",
      "Personal_loan         No        Yes\n",
      "Gender                             \n",
      "Female         54.434251  45.565749\n",
      "Male           48.681055  51.318945\n"
     ]
    },
    {
     "data": {
      "image/png": "[encoded data removed]",
      "text/plain": [
       "<Figure size 1000x600 with 1 Axes>"
      ]
     },
     "metadata": {},
     "output_type": "display_data"
    }
   ],
   "source": [
    "total = len(data)\n",
    "personal_loan_value = data['Personal_loan'].value_counts()\n",
    "\n",
    "# Calculate percentage of individuals with personal loan\n",
    "personal_loan_percentage = (personal_loan_value['Yes'] / total) * 100\n",
    "print(f\"Percentage of individuals with a personal loan: {personal_loan_percentage:.2f}%\")\n",
    "\n",
    "# Calculate percentage with personal loan by gender\n",
    "personal_loan_by_gender = data.groupby('Gender')['Personal_loan'].value_counts(normalize=True).mul(100).unstack()\n",
    "print(\"\\nPercentage of individuals with personal loan by gender:\")\n",
    "print(personal_loan_by_gender)\n",
    "\n",
    "# Plot the results\n",
    "personal_loan_by_gender.plot(kind='bar',  color=['lightcoral', 'skyblue'], figsize=(10, 6))\n",
    "plt.title('Percentage of Individuals with a Personal Loan by Gender')\n",
    "plt.xlabel('Gender')\n",
    "plt.ylabel('Percentage')\n",
    "plt.xticks(rotation=0)\n",
    "plt.legend(title='Personal Loan', loc='upper right')\n",
    "plt.show()"
   ]
  },
  {
   "cell_type": "markdown",
   "id": "481b0817-6bf5-466b-82a7-96cf0d23011c",
   "metadata": {},
   "source": [
    "### Observation\n",
    "#### We can infer that The percentage of population with a personal is approx 50%\n",
    "##### In case of Male and Female :\n",
    "*  ##### 45% of Females have a personal loan\n",
    "*  ##### 51% of Men have a personal loan"
   ]
  },
  {
   "cell_type": "markdown",
   "id": "509a4849-1873-44f8-8c8c-04b25f1f514a",
   "metadata": {},
   "source": [
    "## 6. Marital Status and Dependents:\n",
    "* ### What is the average number of dependents for married individuals versus single individuals?\n"
   ]
  },
  {
   "cell_type": "code",
   "execution_count": 50,
   "id": "a0702a05-af83-4047-a791-073441808875",
   "metadata": {},
   "outputs": [
    {
     "name": "stdout",
     "output_type": "stream",
     "text": [
      "Average number of dependents based on marital status: \n",
      "Marital_status\n",
      "Married    3\n",
      "Single     2\n",
      "Name: No_of_Dependents, dtype: int32\n"
     ]
    }
   ],
   "source": [
    "average_dependent = data.groupby('Marital_status')['No_of_Dependents'].mean().round(0).astype(int)\n",
    "\n",
    "print(\"Average number of dependents based on marital status: \")\n",
    "print(average_dependent)"
   ]
  },
  {
   "cell_type": "markdown",
   "id": "a0fe47cd-0670-4ca0-a8f7-91fdfaab4c73",
   "metadata": {},
   "source": [
    "### Observation\n",
    "#### we can see that the average number of dependents:\n",
    "* ##### for married dependents - 3\n",
    "* ##### for single individuals - 2 "
   ]
  },
  {
   "cell_type": "markdown",
   "id": "76022468-9de0-4292-8ac2-516eae00953b",
   "metadata": {},
   "source": [
    "## 7. Partner Employment:\n",
    "* ### How does the employment status of a partner affect the total combined salary?\n"
   ]
  },
  {
   "cell_type": "code",
   "execution_count": 52,
   "id": "1e41d57b-f4ae-416a-bbb6-d42e26b14d68",
   "metadata": {},
   "outputs": [
    {
     "name": "stdout",
     "output_type": "stream",
     "text": [
      "Average total combined salary based on partner's employment status:\n",
      "Partner_working\n",
      "No     60527.208976\n",
      "Yes    95189.710983\n",
      "Name: Total_salary, dtype: float64\n"
     ]
    },
    {
     "data": {
      "image/png": "[encoded data removed]",
      "text/plain": [
       "<Figure size 1000x600 with 1 Axes>"
      ]
     },
     "metadata": {},
     "output_type": "display_data"
    }
   ],
   "source": [
    "total_salary_avg = data.groupby('Partner_working')['Total_salary'].mean()\n",
    "\n",
    "print(\"Average total combined salary based on partner's employment status:\")\n",
    "print(total_salary_avg)\n",
    "\n",
    "# Plotting the graph\n",
    "plt.figure(figsize=(10, 6))\n",
    "sns.barplot(x=total_salary_avg.index, y=total_salary_avg.values)\n",
    "plt.title(\"Average Total Combined Salary Based on Partner's Employment Status\")\n",
    "plt.xlabel(\"Partner Working Status\")\n",
    "plt.ylabel(\"Average Total Combined Salary\")\n",
    "plt.show()"
   ]
  },
  {
   "cell_type": "markdown",
   "id": "29c59dce-bb51-4fc6-bd60-446aa088c5f6",
   "metadata": {},
   "source": [
    "### Observation\n",
    "#### We can infer that the average total combined salary on the basis of partner employement sataus is:\n",
    "* ##### for those whose partner are not working: Rs 60527.20\n",
    "* ##### for those whose partner are working: Rs 95314.28\n",
    "* ##### This means that if both the partners are working the average combined salary is more"
   ]
  },
  {
   "cell_type": "markdown",
   "id": "f7a0e19c-a6a5-4a93-9599-37e7fa1f11dc",
   "metadata": {},
   "source": [
    "## 8. Salary Comparison:\n",
    "* ### Compare the average salary of individuals whose partners are working versus those whose partners are not working.\n"
   ]
  },
  {
   "cell_type": "code",
   "execution_count": 55,
   "id": "7c7497c3-964e-42c9-be61-3d3999081e82",
   "metadata": {},
   "outputs": [
    {
     "name": "stdout",
     "output_type": "stream",
     "text": [
      "Average salary based on partner's employment status:\n",
      "Partner_working\n",
      "No     60255.539972\n",
      "Yes    60195.491329\n",
      "Name: Salary, dtype: float64\n"
     ]
    },
    {
     "data": {
      "image/png": "[encoded data removed]",
      "text/plain": [
       "<Figure size 800x500 with 1 Axes>"
      ]
     },
     "metadata": {},
     "output_type": "display_data"
    }
   ],
   "source": [
    "average_salary_partner_working = data.groupby('Partner_working')['Salary'].mean()\n",
    "\n",
    "print(\"Average salary based on partner's employment status:\")\n",
    "print(average_salary_partner_working)\n",
    "\n",
    "plt.figure(figsize=(8, 5))\n",
    "bars = plt.bar(average_salary_partner_working.index, average_salary_partner_working.values, color=['blue', 'orange'])\n",
    "plt.xlabel('Partner Employment Status')\n",
    "plt.ylabel('Average Salary')\n",
    "plt.title('Average Salary by Partner Employment Status')\n",
    "plt.legend(bars, average_salary_partner_working.index)\n",
    "plt.show()\n"
   ]
  },
  {
   "cell_type": "markdown",
   "id": "a16ffcf0-7716-452b-807f-1deff199fd35",
   "metadata": {},
   "source": [
    "### Observation\n",
    "* #### We can see that there is not much difference between the average salary of the individual regardless of their partner working status"
   ]
  },
  {
   "cell_type": "markdown",
   "id": "248d85a8-b7f1-4cd4-836f-e812de19a809",
   "metadata": {},
   "source": [
    "## 9. House Loan Analysis:\n",
    "* ### What is the proportion of individuals with house loans based on their profession?\n"
   ]
  },
  {
   "cell_type": "code",
   "execution_count": 56,
   "id": "0cc26ef0-fbfe-4f72-9eaf-ababd234f85d",
   "metadata": {},
   "outputs": [
    {
     "name": "stdout",
     "output_type": "stream",
     "text": [
      "Proportion of individuals with house loans based on profession:\n",
      "Profession  House_loan\n",
      "Business    No            66.520468\n",
      "            Yes           33.479532\n",
      "Salaried    No            66.778523\n",
      "            Yes           33.221477\n",
      "Name: proportion, dtype: float64\n"
     ]
    },
    {
     "data": {
      "image/png": "[encoded data removed]",
      "text/plain": [
       "<Figure size 1000x600 with 1 Axes>"
      ]
     },
     "metadata": {},
     "output_type": "display_data"
    }
   ],
   "source": [
    "house_loan_proportion = data.groupby('Profession')['House_loan'].value_counts(normalize=True)*100\n",
    "house_loan_proportion_yes = house_loan_proportion\n",
    "\n",
    "print(\"Proportion of individuals with house loans based on profession:\")\n",
    "print(house_loan_proportion_yes)\n",
    "\n",
    "house_loan_proportion.plot(kind='bar',  figsize=(10, 6), color=['orange', 'blue'])\n",
    "plt.xlabel('Profession')\n",
    "plt.ylabel('Proportion (%)')\n",
    "plt.title('Proportion of Individuals with House Loans by Profession')\n",
    "plt.legend(title='House Loan', labels=['No','Yes'])\n",
    "plt.show()\n"
   ]
  },
  {
   "cell_type": "markdown",
   "id": "c786f07f-81cd-4303-bc3f-e96add4d558d",
   "metadata": {},
   "source": [
    "### Observation\n",
    "#### We can infer that:\n",
    "* ##### There are 33.43% people with Business as their profession who have house loans.\n",
    "* ##### There are 33.25% people with Salaried as their profession who have house loans."
   ]
  },
  {
   "cell_type": "markdown",
   "id": "67b7a768-3d79-4a3c-824b-f96702df6f9e",
   "metadata": {},
   "source": [
    "## 10. Salary Distribution:\n",
    "* ### What is the distribution of salaries for individuals with personal loans versus those without personal loans? Represent it using a box plot.\n"
   ]
  },
  {
   "cell_type": "code",
   "execution_count": 58,
   "id": "b4319cac-cbbf-4e0d-9220-5cff4e227b11",
   "metadata": {},
   "outputs": [
    {
     "data": {
      "image/png": "[encoded data removed]",
      "text/plain": [
       "<Figure size 1000x600 with 1 Axes>"
      ]
     },
     "metadata": {},
     "output_type": "display_data"
    }
   ],
   "source": [
    "plt.figure(figsize=(10, 6))\n",
    "sns.boxplot(x='Personal_loan', y='Salary', data=data, palette=\"Set2\")\n",
    "plt.xlabel('Personal Loan')\n",
    "plt.ylabel('Salary')\n",
    "plt.title('Salary Distribution for Individuals with and without Personal Loans')\n",
    "plt.show()"
   ]
  },
  {
   "cell_type": "markdown",
   "id": "eca72d6f-daf6-4c27-ac56-bcc8cd8af9d6",
   "metadata": {},
   "source": [
    "## 11. Automobile Make Analysis:\n",
    "### How does the type of automobile relate to the salary of the individuals? Provide insights based on the make of the automobile."
   ]
  },
  {
   "cell_type": "code",
   "execution_count": 59,
   "id": "3416e5d7-0608-4b92-bc44-e34c612a550e",
   "metadata": {},
   "outputs": [
    {
     "name": "stdout",
     "output_type": "stream",
     "text": [
      "        Make        Salary\n",
      "1        SUV  71533.788396\n",
      "2      Sedan  59762.873400\n",
      "0  Hatchback  55083.505155\n"
     ]
    },
    {
     "data": {
      "image/png": "[encoded data removed]",
      "text/plain": [
       "<Figure size 1200x600 with 1 Axes>"
      ]
     },
     "metadata": {},
     "output_type": "display_data"
    }
   ],
   "source": [
    "average_salary_by_make = data.groupby('Make')['Salary'].mean().reset_index()\n",
    "average_salary_by_make = average_salary_by_make.sort_values(by='Salary', ascending=False)\n",
    "print(average_salary_by_make)\n",
    "\n",
    "# Create a bar plot for average salary by type of automobile\n",
    "plt.figure(figsize=(12,6))\n",
    "sns.barplot(x='Salary', y='Make', data=average_salary_by_make, palette='viridis')\n",
    "plt.title('Average Salary by Type of Automobile')\n",
    "plt.xlabel('Average Salary')\n",
    "plt.ylabel('Automobile Make')\n",
    "plt.show()"
   ]
  },
  {
   "cell_type": "markdown",
   "id": "868ef655-7438-42a9-b165-8b0515747386",
   "metadata": {},
   "source": [
    "### Observation\n",
    "#### We can see that:\n",
    "* ##### when the average salary is larger the automobile make is also the costlier one\n",
    "* ##### As the salary decreases the make of automobile becomes the cheaper one"
   ]
  },
  {
   "cell_type": "markdown",
   "id": "007cb67f-bb06-4d61-82ab-5c051740489f",
   "metadata": {},
   "source": [
    "## 12. Price Analysis:\n",
    "### What is the average price of the product/service in the dataset? How does this price vary based on the individual's total salary?\n"
   ]
  },
  {
   "cell_type": "markdown",
   "id": "97147fb3-1aae-47cd-a3e6-546168c165ee",
   "metadata": {},
   "source": [
    "## 13. Marital Status and Loans:\n",
    "### Is there a significant difference in the number of personal loans taken by married individuals compared to single individuals?\n"
   ]
  },
  {
   "cell_type": "code",
   "execution_count": 61,
   "id": "8879bd48-374b-44e4-b423-1ab40dc28caf",
   "metadata": {},
   "outputs": [
    {
     "name": "stdout",
     "output_type": "stream",
     "text": [
      "Number of personal loans taken by marital status:\n",
      "Personal_loan    No  Yes\n",
      "Marital_status          \n",
      "Married         721  719\n",
      "Single           66   72\n"
     ]
    },
    {
     "data": {
      "text/plain": [
       "<Figure size 1000x600 with 0 Axes>"
      ]
     },
     "metadata": {},
     "output_type": "display_data"
    },
    {
     "data": {
      "image/png": "[encoded data removed]",
      "text/plain": [
       "<Figure size 640x480 with 1 Axes>"
      ]
     },
     "metadata": {},
     "output_type": "display_data"
    }
   ],
   "source": [
    "loan_marital_status = data.groupby(['Marital_status', 'Personal_loan']).size().unstack()\n",
    "print(\"Number of personal loans taken by marital status:\")\n",
    "print(loan_marital_status)\n",
    "\n",
    "plt.figure(figsize=(10, 6))\n",
    "loan_marital_status.plot(kind='bar', color=['skyblue', 'salmon'])\n",
    "plt.xlabel('Marital Status')\n",
    "plt.ylabel('Number of Individuals')\n",
    "plt.title('Personal Loans Taken by Marital Status')\n",
    "plt.legend(title='Personal Loan', labels=['No', 'Yes'])\n",
    "plt.xticks(rotation=0)\n",
    "plt.show()"
   ]
  },
  {
   "cell_type": "markdown",
   "id": "7cdc0180-ff2f-49f1-96fe-db1b1fdff02d",
   "metadata": {},
   "source": [
    "### Observation\n",
    "#### We can infer that:\n",
    "* ##### In case of married status there are 720 individuals who have personal loan and 723 individuals who do not have personal loan.\n",
    "* ##### In case of single status there are 72 individuals who have personal loan and 66 individuals who do not have personal loan."
   ]
  },
  {
   "cell_type": "markdown",
   "id": "5b0ef3b2-430e-48cc-8bd8-0d83883a117a",
   "metadata": {},
   "source": [
    "## 14. Educational Qualification Impact:\n",
    "### How does educational qualification impact the likelihood of taking a house loan?\n"
   ]
  },
  {
   "cell_type": "code",
   "execution_count": 62,
   "id": "1e893e1e-94bb-478a-a0ea-42a3324eb3c9",
   "metadata": {},
   "outputs": [
    {
     "name": "stdout",
     "output_type": "stream",
     "text": [
      "Number of house loans taken by educational qualification:\n",
      "House_loan      No  Yes\n",
      "Education              \n",
      "Graduate       394  202\n",
      "Post Graduate  658  324\n"
     ]
    },
    {
     "data": {
      "text/plain": [
       "<Figure size 1000x600 with 0 Axes>"
      ]
     },
     "metadata": {},
     "output_type": "display_data"
    },
    {
     "data": {
      "image/png": "[encoded data removed]",
      "text/plain": [
       "<Figure size 640x480 with 1 Axes>"
      ]
     },
     "metadata": {},
     "output_type": "display_data"
    }
   ],
   "source": [
    "loan_education_status = data.groupby(['Education', 'House_loan']).size().unstack()\n",
    "print(\"Number of house loans taken by educational qualification:\")\n",
    "print(loan_education_status)\n",
    "\n",
    "plt.figure(figsize=(10, 6))\n",
    "loan_education_status.plot(kind='bar', color=['skyblue', 'salmon'])\n",
    "plt.xlabel('Educational Qualification')\n",
    "plt.ylabel('Number of Individuals')\n",
    "plt.title('House Loans Taken by Educational Qualification')\n",
    "plt.legend(title='House Loan', labels=['No', 'Yes'])\n",
    "plt.xticks(rotation=0)\n",
    "plt.show()"
   ]
  },
  {
   "cell_type": "markdown",
   "id": "beba0721-7333-47f0-9857-b89c7b87fe44",
   "metadata": {},
   "source": [
    "### Obseravtion\n",
    "#### From this we can infer that:\n",
    "* ##### This shows that individuals with Post Graduate Education take more house loan as compared to the individuals with Graduate education qualification"
   ]
  },
  {
   "cell_type": "markdown",
   "id": "dcd69672-c6f0-4441-b583-a4876ce5af6b",
   "metadata": {},
   "source": [
    "## 15. Dependent Count Analysis:\n",
    "### Analyze the number of dependents based on the profession of the individual. Which profession has the highest average number of dependents?\n"
   ]
  },
  {
   "cell_type": "code",
   "execution_count": 63,
   "id": "a192dd99-4ecf-4af3-b88a-d15c9b247670",
   "metadata": {},
   "outputs": [
    {
     "name": "stdout",
     "output_type": "stream",
     "text": [
      "Average number of dependents based on profession:\n",
      "Profession\n",
      "Business    2.489766\n",
      "Salaried    2.432886\n",
      "Name: No_of_Dependents, dtype: float64\n"
     ]
    },
    {
     "data": {
      "image/png": "[encoded data removed]",
      "text/plain": [
       "<Figure size 1200x800 with 1 Axes>"
      ]
     },
     "metadata": {},
     "output_type": "display_data"
    }
   ],
   "source": [
    "average_dependents_profession = data.groupby('Profession')['No_of_Dependents'].mean()\n",
    "max_dependents_profession = average_dependents_profession.idxmax()\n",
    "max_dependents_value = average_dependents_profession.max()\n",
    "print(\"Average number of dependents based on profession:\")\n",
    "print(average_dependents_profession)\n",
    "\n",
    "# Plotting \n",
    "plt.figure(figsize=(12, 8))\n",
    "average_dependents_profession.plot(kind='bar', color='skyblue')\n",
    "plt.xlabel('Profession')\n",
    "plt.ylabel('Average Number of Dependents')\n",
    "plt.title('Average Number of Dependents Based on Profession')\n",
    "plt.xticks(rotation=0)\n",
    "plt.show()\n"
   ]
  },
  {
   "cell_type": "markdown",
   "id": "2e47107d-d929-43b9-b0c2-e814bcd331dc",
   "metadata": {},
   "source": [
    "## 16. Gender and Salary:\n",
    "### Is there a significant difference in salaries between males and females? Provide statistical evidence.\n"
   ]
  },
  {
   "cell_type": "code",
   "execution_count": 64,
   "id": "c3a71f44-b52f-44a6-912a-2e701e7f8ff1",
   "metadata": {},
   "outputs": [
    {
     "name": "stdout",
     "output_type": "stream",
     "text": [
      "Descriptive statistics of salaries based on gender:\n",
      "         count          mean           std      min      25%      50%  \\\n",
      "Gender                                                                  \n",
      "Female   327.0  65816.513761  14380.357985  34800.0  56700.0  63900.0   \n",
      "Male    1251.0  58760.431655  14239.046917  30000.0  51200.0  58500.0   \n",
      "\n",
      "            75%      max  \n",
      "Gender                    \n",
      "Female  77300.0  99300.0  \n",
      "Male    68950.0  99300.0  \n"
     ]
    },
    {
     "data": {
      "image/png": "[encoded data removed]",
      "text/plain": [
       "<Figure size 1000x600 with 1 Axes>"
      ]
     },
     "metadata": {},
     "output_type": "display_data"
    }
   ],
   "source": [
    "salary_stats_gender = data.groupby('Gender')['Salary'].describe()\n",
    "print(\"Descriptive statistics of salaries based on gender:\")\n",
    "print(salary_stats_gender)\n",
    "\n",
    "# Creating a box plot \n",
    "plt.figure(figsize=(10, 6))\n",
    "sns.barplot(x='Gender', y='Salary', data=data)\n",
    "plt.title('Salary Distribution by Gender')\n",
    "plt.xlabel('Gender')\n",
    "plt.ylabel('Salary')\n",
    "plt.show()"
   ]
  },
  {
   "cell_type": "markdown",
   "id": "567c7a4d-af47-46f1-a573-7de68e5b3903",
   "metadata": {},
   "source": [
    "## 17.  Loan Status Impact:\n",
    "* ### How does having a personal loan affect the total combined salary of the individual and their partner?\n"
   ]
  },
  {
   "cell_type": "code",
   "execution_count": 65,
   "id": "46600a35-e6ab-409d-81d9-883dc50045de",
   "metadata": {},
   "outputs": [
    {
     "name": "stdout",
     "output_type": "stream",
     "text": [
      "Average Total Combined Salary Based on Personal Loan Status:\n",
      "  Personal_loan  Total_salary\n",
      "0            No  80937.229987\n",
      "1           Yes  78125.663717\n"
     ]
    },
    {
     "data": {
      "image/png": "[encoded data removed]",
      "text/plain": [
       "<Figure size 1000x600 with 1 Axes>"
      ]
     },
     "metadata": {},
     "output_type": "display_data"
    }
   ],
   "source": [
    "loan_salary_stats = data.groupby('Personal_loan')['Total_salary'].mean().reset_index()\n",
    "print(\"Average Total Combined Salary Based on Personal Loan Status:\")\n",
    "print(loan_salary_stats)\n",
    "\n",
    "# Visualize using a bar plot\n",
    "plt.figure(figsize=(10, 6))\n",
    "sns.barplot(x='Personal_loan', y='Total_salary', data=loan_salary_stats, palette='viridis')\n",
    "plt.title('Impact of Personal Loan on Total Combined Salary')\n",
    "plt.xlabel('Personal Loan Status')\n",
    "plt.ylabel('Average Total Combined Salary')\n",
    "plt.show()"
   ]
  },
  {
   "cell_type": "markdown",
   "id": "e52d478e-49d6-438a-b58e-462443e9e4e5",
   "metadata": {},
   "source": [
    "## 18. Partner's Salary Contribution:\n",
    "### What is the average partner's salary for individuals with and without house loans?\n"
   ]
  },
  {
   "cell_type": "code",
   "execution_count": 66,
   "id": "b1b63a62-9d0e-4838-8edc-faec9405cf9e",
   "metadata": {},
   "outputs": [
    {
     "name": "stdout",
     "output_type": "stream",
     "text": [
      "Average partner's salary based on house loan status:\n",
      "House_loan\n",
      "No     20975.190114\n",
      "Yes    19661.216730\n",
      "Name: Partner_salary, dtype: float64\n"
     ]
    },
    {
     "data": {
      "image/png": "[encoded data removed]",
      "text/plain": [
       "<Figure size 1000x600 with 1 Axes>"
      ]
     },
     "metadata": {},
     "output_type": "display_data"
    }
   ],
   "source": [
    "average_partner_salary_house_loan = data.groupby('House_loan')['Partner_salary'].mean()\n",
    "print(\"Average partner's salary based on house loan status:\")\n",
    "print(average_partner_salary_house_loan)\n",
    "\n",
    "# Create a bar plot \n",
    "plt.figure(figsize=(10, 6))\n",
    "sns.barplot(x='House_loan', y='Partner_salary', data=data)\n",
    "plt.title('Total Combined Salary by Personal Loan Status')\n",
    "plt.xlabel('Personal Loan')\n",
    "plt.ylabel('Total Combined Salary')\n",
    "plt.show()"
   ]
  },
  {
   "cell_type": "code",
   "execution_count": 67,
   "id": "e715267a-7e0e-43ce-bf9e-2411d9985d42",
   "metadata": {},
   "outputs": [
    {
     "name": "stdout",
     "output_type": "stream",
     "text": [
      "Average partner's salary for individuals with house loans: 19661.216730038024\n",
      "Average partner's salary for individuals without house loans: 20975.190114068442\n"
     ]
    }
   ],
   "source": [
    "with_house_loan = data[data['House_loan'] == 'Yes']\n",
    "without_house_loan = data[data['House_loan'] == 'No']\n",
    "\n",
    "avg_partner_salary_with_loan = with_house_loan['Partner_salary'].mean()\n",
    "avg_partner_salary_without_loan = without_house_loan['Partner_salary'].mean()\n",
    "\n",
    "print(f\"Average partner's salary for individuals with house loans: {avg_partner_salary_with_loan}\")\n",
    "print(f\"Average partner's salary for individuals without house loans: {avg_partner_salary_without_loan}\")\n"
   ]
  },
  {
   "cell_type": "markdown",
   "id": "605fa64e-47a7-4470-805d-c5f28c63285c",
   "metadata": {},
   "source": [
    "## 19. Total Salary Distribution:\n",
    "### Create a histogram showing the distribution of total combined salaries. Identify and discuss any skewness or outliers in the data.\n"
   ]
  },
  {
   "cell_type": "code",
   "execution_count": 68,
   "id": "56cc3de1-140c-4787-9052-e36f7bb384eb",
   "metadata": {},
   "outputs": [
    {
     "data": {
      "image/png": "[encoded data removed]",
      "text/plain": [
       "<Figure size 1000x600 with 1 Axes>"
      ]
     },
     "metadata": {},
     "output_type": "display_data"
    }
   ],
   "source": [
    "# Creating a histogram\n",
    "plt.figure(figsize=(10, 6))\n",
    "plt.hist(data['Total_salary'], bins=10, edgecolor='black', alpha=0.7)\n",
    "plt.title('Distribution of Total Combined Salaries')\n",
    "plt.xlabel('Total Combined Salary')\n",
    "plt.ylabel('Frequency')\n",
    "plt.show()"
   ]
  }
 ],
 "metadata": {
  "kernelspec": {
   "display_name": "Python 3 (ipykernel)",
   "language": "python",
   "name": "python3"
  },
  "language_info": {
   "codemirror_mode": {
    "name": "ipython",
    "version": 3
   },
   "file_extension": ".py",
   "mimetype": "text/x-python",
   "name": "python",
   "nbconvert_exporter": "python",
   "pygments_lexer": "ipython3",
   "version": "3.11.7"
  }
 },
 "nbformat": 4,
 "nbformat_minor": 5
}
